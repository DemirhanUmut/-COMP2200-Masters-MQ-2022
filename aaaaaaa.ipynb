{
  "cells": [
    {
      "cell_type": "markdown",
      "metadata": {
        "id": "view-in-github",
        "colab_type": "text"
      },
      "source": [
        "<a href=\"https://colab.research.google.com/github/DemirhanUmut/COMP2200-Masters-MQ-2022/blob/main/aaaaaaa.ipynb\" target=\"_parent\"><img src=\"https://colab.research.google.com/assets/colab-badge.svg\" alt=\"Open In Colab\"/></a>"
      ]
    },
    {
      "cell_type": "markdown",
      "metadata": {
        "id": "ItXfxkxvosLH"
      },
      "source": [
        "# Assessed Task 3: Specification\n",
        "## Basic text classification\n",
        "\n",
        "*  Student name: Umut Demirhan\n",
        "*  Student ID: 46739106\n",
        "*  Unit code and name: COMP8220 Machine Learning\n"
      ]
    },
    {
      "cell_type": "markdown",
      "metadata": {
        "id": "Eg62Pmz3o83v"
      },
      "source": [
        "In this assessed task,  text classification with 7 sub-tasks is demonstrated"
      ]
    },
    {
      "cell_type": "markdown",
      "metadata": {
        "id": "vlc4TZqsn0f6"
      },
      "source": [
        "## Task 0 \n"
      ]
    },
    {
      "cell_type": "code",
      "execution_count": null,
      "metadata": {
        "id": "8RZOuS9LWQvv",
        "vscode": {
          "languageId": "python"
        }
      },
      "outputs": [],
      "source": [
        "import matplotlib.pyplot as plt\n",
        "import os\n",
        "import re\n",
        "import shutil\n",
        "import string\n",
        "import tensorflow as tf\n",
        "\n",
        "from tensorflow.keras import layers\n",
        "from tensorflow.keras import losses\n"
      ]
    },
    {
      "cell_type": "code",
      "execution_count": null,
      "metadata": {
        "colab": {
          "base_uri": "https://localhost:8080/"
        },
        "id": "6-tTFS04dChr",
        "outputId": "3fc20de9-15a7-4d0e-e295-c653e528f5a3",
        "vscode": {
          "languageId": "python"
        }
      },
      "outputs": [
        {
          "output_type": "stream",
          "name": "stdout",
          "text": [
            "2.9.2\n"
          ]
        }
      ],
      "source": [
        "print(tf.__version__)"
      ]
    },
    {
      "cell_type": "markdown",
      "metadata": {
        "id": "NBTI1bi8qdFV"
      },
      "source": [
        "## Sentiment analysis\n",
        "\n",
        "\n"
      ]
    },
    {
      "cell_type": "markdown",
      "metadata": {
        "id": "iAsKG535pHep"
      },
      "source": [
        "### Download and explore the IMDB dataset\n"
      ]
    },
    {
      "cell_type": "code",
      "execution_count": null,
      "metadata": {
        "id": "k7ZYnuajVlFN",
        "vscode": {
          "languageId": "python"
        },
        "colab": {
          "base_uri": "https://localhost:8080/"
        },
        "outputId": "7657ca20-e1f8-4610-85b0-7159907c2b0d"
      },
      "outputs": [
        {
          "output_type": "stream",
          "name": "stdout",
          "text": [
            "Downloading data from https://ai.stanford.edu/~amaas/data/sentiment/aclImdb_v1.tar.gz\n",
            "84125825/84125825 [==============================] - 9s 0us/step\n"
          ]
        }
      ],
      "source": [
        "url = \"https://ai.stanford.edu/~amaas/data/sentiment/aclImdb_v1.tar.gz\"\n",
        "# drive_dir = \"/content/drive/MyDrive/FL/text_classify\"\n",
        "dataset = tf.keras.utils.get_file(\"aclImdb_v1\", url,\n",
        "                                    untar=True, cache_dir='.',\n",
        "                                    cache_subdir='')\n",
        "\n",
        "dataset_dir = os.path.join(os.path.dirname(dataset), 'aclImdb')"
      ]
    },
    {
      "cell_type": "code",
      "execution_count": null,
      "metadata": {
        "colab": {
          "base_uri": "https://localhost:8080/"
        },
        "id": "7ASND15oXpF1",
        "outputId": "32d0d7b3-0cb3-4aa5-d016-6f681e1cc07b",
        "vscode": {
          "languageId": "python"
        }
      },
      "outputs": [
        {
          "output_type": "execute_result",
          "data": {
            "text/plain": [
              "['unsup',\n",
              " 'urls_unsup.txt',\n",
              " 'pos',\n",
              " 'labeledBow.feat',\n",
              " 'urls_neg.txt',\n",
              " 'urls_pos.txt',\n",
              " 'neg',\n",
              " 'unsupBow.feat']"
            ]
          },
          "metadata": {},
          "execution_count": 5
        }
      ],
      "source": [
        "train_dir = os.path.join(dataset_dir, 'train')\n",
        "os.listdir(train_dir)"
      ]
    },
    {
      "cell_type": "code",
      "execution_count": null,
      "metadata": {
        "colab": {
          "base_uri": "https://localhost:8080/"
        },
        "id": "R7g8hFvzWLIZ",
        "outputId": "631d80c6-b6ac-48e5-a732-5db1aed0ca86",
        "vscode": {
          "languageId": "python"
        }
      },
      "outputs": [
        {
          "output_type": "stream",
          "name": "stdout",
          "text": [
            "Rachel Griffiths writes and directs this award winning short film. A heartwarming story about coping with grief and cherishing the memory of those we've loved and lost. Although, only 15 minutes long, Griffiths manages to capture so much emotion and truth onto film in the short space of time. Bud Tingwell gives a touching performance as Will, a widower struggling to cope with his wife's death. Will is confronted by the harsh reality of loneliness and helplessness as he proceeds to take care of Ruth's pet cow, Tulip. The film displays the grief and responsibility one feels for those they have loved and lost. Good cinematography, great direction, and superbly acted. It will bring tears to all those who have lost a loved one, and survived.\n"
          ]
        }
      ],
      "source": [
        "sample_file = os.path.join(train_dir, 'pos/1181_9.txt')\n",
        "with open(sample_file) as f:\n",
        "  print(f.read())"
      ]
    },
    {
      "cell_type": "markdown",
      "metadata": {
        "id": "Mk20TEm6ZRFP"
      },
      "source": [
        "### Load the dataset"
      ]
    },
    {
      "cell_type": "code",
      "execution_count": null,
      "metadata": {
        "id": "VhejsClzaWfl",
        "vscode": {
          "languageId": "python"
        }
      },
      "outputs": [],
      "source": [
        "remove_dir = os.path.join(train_dir, 'unsup')\n",
        "shutil.rmtree(remove_dir)"
      ]
    },
    {
      "cell_type": "code",
      "execution_count": null,
      "metadata": {
        "colab": {
          "base_uri": "https://localhost:8080/"
        },
        "id": "nOrK-MTYaw3C",
        "outputId": "022db27f-8c69-471b-d133-a17e9499e3d5",
        "vscode": {
          "languageId": "python"
        }
      },
      "outputs": [
        {
          "output_type": "stream",
          "name": "stdout",
          "text": [
            "Found 25000 files belonging to 2 classes.\n",
            "Using 20000 files for training.\n"
          ]
        }
      ],
      "source": [
        "batch_size = 32\n",
        "seed = 42\n",
        "\n",
        "raw_train_ds = tf.keras.utils.text_dataset_from_directory(\n",
        "    'aclImdb/train', \n",
        "    batch_size=batch_size, \n",
        "    validation_split=0.2, \n",
        "    subset='training',\n",
        "    seed=seed)"
      ]
    },
    {
      "cell_type": "code",
      "execution_count": null,
      "metadata": {
        "colab": {
          "base_uri": "https://localhost:8080/"
        },
        "id": "51wNaPPApk1K",
        "outputId": "f7b51dee-fae9-4e8b-86ef-f50f53d1ec5c",
        "vscode": {
          "languageId": "python"
        }
      },
      "outputs": [
        {
          "output_type": "stream",
          "name": "stdout",
          "text": [
            "Review b'\"Pandemonium\" is a horror movie spoof that comes off more stupid than funny. Believe me when I tell you, I love comedies. Especially comedy spoofs. \"Airplane\", \"The Naked Gun\" trilogy, \"Blazing Saddles\", \"High Anxiety\", and \"Spaceballs\" are some of my favorite comedies that spoof a particular genre. \"Pandemonium\" is not up there with those films. Most of the scenes in this movie had me sitting there in stunned silence because the movie wasn\\'t all that funny. There are a few laughs in the film, but when you watch a comedy, you expect to laugh a lot more than a few times and that\\'s all this film has going for it. Geez, \"Scream\" had more laughs than this film and that was more of a horror film. How bizarre is that?<br /><br />*1/2 (out of four)'\n",
            "Label 0\n",
            "Review b\"David Mamet is a very interesting and a very un-equal director. His first movie 'House of Games' was the one I liked best, and it set a series of films with characters whose perspective of life changes as they get into complicated situations, and so does the perspective of the viewer.<br /><br />So is 'Homicide' which from the title tries to set the mind of the viewer to the usual crime drama. The principal characters are two cops, one Jewish and one Irish who deal with a racially charged area. The murder of an old Jewish shop owner who proves to be an ancient veteran of the Israeli Independence war triggers the Jewish identity in the mind and heart of the Jewish detective.<br /><br />This is were the flaws of the film are the more obvious. The process of awakening is theatrical and hard to believe, the group of Jewish militants is operatic, and the way the detective eventually walks to the final violent confrontation is pathetic. The end of the film itself is Mamet-like smart, but disappoints from a human emotional perspective.<br /><br />Joe Mantegna and William Macy give strong performances, but the flaws of the story are too evident to be easily compensated.\"\n",
            "Label 0\n",
            "Review b'Great documentary about the lives of NY firefighters during the worst terrorist attack of all time.. That reason alone is why this should be a must see collectors item.. What shocked me was not only the attacks, but the\"High Fat Diet\" and physical appearance of some of these firefighters. I think a lot of Doctors would agree with me that,in the physical shape they were in, some of these firefighters would NOT of made it to the 79th floor carrying over 60 lbs of gear. Having said that i now have a greater respect for firefighters and i realize becoming a firefighter is a life altering job. The French have a history of making great documentary\\'s and that is what this is, a Great Documentary.....'\n",
            "Label 1\n"
          ]
        }
      ],
      "source": [
        "for text_batch, label_batch in raw_train_ds.take(1):\n",
        "  for i in range(3):\n",
        "    print(\"Review\", text_batch.numpy()[i])\n",
        "    print(\"Label\", label_batch.numpy()[i])"
      ]
    },
    {
      "cell_type": "code",
      "execution_count": null,
      "metadata": {
        "colab": {
          "base_uri": "https://localhost:8080/"
        },
        "id": "JsMwwhOoqjKF",
        "outputId": "56852973-969b-4731-cddc-febdd9e4fe1e",
        "vscode": {
          "languageId": "python"
        }
      },
      "outputs": [
        {
          "output_type": "stream",
          "name": "stdout",
          "text": [
            "Found 25000 files belonging to 2 classes.\n",
            "Using 5000 files for validation.\n"
          ]
        }
      ],
      "source": [
        "raw_val_ds = tf.keras.utils.text_dataset_from_directory(\n",
        "    'aclImdb/train', \n",
        "    batch_size=batch_size, \n",
        "    validation_split=0.2, \n",
        "    subset='validation', \n",
        "    seed=seed)"
      ]
    },
    {
      "cell_type": "code",
      "execution_count": null,
      "metadata": {
        "colab": {
          "base_uri": "https://localhost:8080/"
        },
        "id": "rdSr0Nt3q_ns",
        "outputId": "d9ff9461-4d2e-46ab-c5c7-665198b7c019",
        "vscode": {
          "languageId": "python"
        }
      },
      "outputs": [
        {
          "output_type": "stream",
          "name": "stdout",
          "text": [
            "Found 25000 files belonging to 2 classes.\n"
          ]
        }
      ],
      "source": [
        "raw_test_ds = tf.keras.utils.text_dataset_from_directory(\n",
        "    'aclImdb/test', \n",
        "    batch_size=batch_size)"
      ]
    },
    {
      "cell_type": "markdown",
      "metadata": {
        "id": "qJmTiO0IYAjm"
      },
      "source": [
        "### Prepare the dataset for training\n"
      ]
    },
    {
      "cell_type": "code",
      "execution_count": null,
      "metadata": {
        "id": "SDRI_s_tX1Hk",
        "vscode": {
          "languageId": "python"
        }
      },
      "outputs": [],
      "source": [
        "def custom_standardization(input_data):\n",
        "  lowercase = tf.strings.lower(input_data)\n",
        "  stripped_html = tf.strings.regex_replace(lowercase, '<br />', ' ')\n",
        "  return tf.strings.regex_replace(stripped_html,\n",
        "                                  '[%s]' % re.escape(string.punctuation),\n",
        "                                  '')"
      ]
    },
    {
      "cell_type": "code",
      "execution_count": null,
      "metadata": {
        "id": "-c76RvSzsMnX",
        "vscode": {
          "languageId": "python"
        }
      },
      "outputs": [],
      "source": [
        "max_features = 10000\n",
        "sequence_length = 250\n",
        "\n",
        "vectorize_layer = layers.TextVectorization(\n",
        "    standardize=custom_standardization,\n",
        "    max_tokens=max_features,\n",
        "    output_mode='int',\n",
        "    output_sequence_length=sequence_length)"
      ]
    },
    {
      "cell_type": "code",
      "execution_count": null,
      "metadata": {
        "id": "GH4_2ZGJsa_X",
        "vscode": {
          "languageId": "python"
        }
      },
      "outputs": [],
      "source": [
        "# Make a text-only dataset (without labels), then call adapt\n",
        "train_text = raw_train_ds.map(lambda x, y: x)\n",
        "vectorize_layer.adapt(train_text)"
      ]
    },
    {
      "cell_type": "code",
      "execution_count": null,
      "metadata": {
        "id": "SCIg_T50wOCU",
        "vscode": {
          "languageId": "python"
        }
      },
      "outputs": [],
      "source": [
        "def vectorize_text(text, label):\n",
        "  text = tf.expand_dims(text, -1)\n",
        "  return vectorize_layer(text), label"
      ]
    },
    {
      "cell_type": "code",
      "execution_count": null,
      "metadata": {
        "colab": {
          "base_uri": "https://localhost:8080/"
        },
        "id": "XULcm6B3xQIO",
        "outputId": "b3242200-012e-4571-96c4-82220198df9a",
        "vscode": {
          "languageId": "python"
        }
      },
      "outputs": [
        {
          "output_type": "stream",
          "name": "stdout",
          "text": [
            "Review tf.Tensor(b'Great movie - especially the music - Etta James - \"At Last\". This speaks volumes when you have finally found that special someone.', shape=(), dtype=string)\n",
            "Label neg\n",
            "Vectorized review (<tf.Tensor: shape=(1, 250), dtype=int64, numpy=\n",
            "array([[  86,   17,  260,    2,  222,    1,  571,   31,  229,   11, 2418,\n",
            "           1,   51,   22,   25,  404,  251,   12,  306,  282,    0,    0,\n",
            "           0,    0,    0,    0,    0,    0,    0,    0,    0,    0,    0,\n",
            "           0,    0,    0,    0,    0,    0,    0,    0,    0,    0,    0,\n",
            "           0,    0,    0,    0,    0,    0,    0,    0,    0,    0,    0,\n",
            "           0,    0,    0,    0,    0,    0,    0,    0,    0,    0,    0,\n",
            "           0,    0,    0,    0,    0,    0,    0,    0,    0,    0,    0,\n",
            "           0,    0,    0,    0,    0,    0,    0,    0,    0,    0,    0,\n",
            "           0,    0,    0,    0,    0,    0,    0,    0,    0,    0,    0,\n",
            "           0,    0,    0,    0,    0,    0,    0,    0,    0,    0,    0,\n",
            "           0,    0,    0,    0,    0,    0,    0,    0,    0,    0,    0,\n",
            "           0,    0,    0,    0,    0,    0,    0,    0,    0,    0,    0,\n",
            "           0,    0,    0,    0,    0,    0,    0,    0,    0,    0,    0,\n",
            "           0,    0,    0,    0,    0,    0,    0,    0,    0,    0,    0,\n",
            "           0,    0,    0,    0,    0,    0,    0,    0,    0,    0,    0,\n",
            "           0,    0,    0,    0,    0,    0,    0,    0,    0,    0,    0,\n",
            "           0,    0,    0,    0,    0,    0,    0,    0,    0,    0,    0,\n",
            "           0,    0,    0,    0,    0,    0,    0,    0,    0,    0,    0,\n",
            "           0,    0,    0,    0,    0,    0,    0,    0,    0,    0,    0,\n",
            "           0,    0,    0,    0,    0,    0,    0,    0,    0,    0,    0,\n",
            "           0,    0,    0,    0,    0,    0,    0,    0,    0,    0,    0,\n",
            "           0,    0,    0,    0,    0,    0,    0,    0,    0,    0,    0,\n",
            "           0,    0,    0,    0,    0,    0,    0,    0]])>, <tf.Tensor: shape=(), dtype=int32, numpy=0>)\n"
          ]
        }
      ],
      "source": [
        "# retrieve a batch (of 32 reviews and labels) from the dataset\n",
        "text_batch, label_batch = next(iter(raw_train_ds))\n",
        "first_review, first_label = text_batch[0], label_batch[0]\n",
        "print(\"Review\", first_review)\n",
        "print(\"Label\", raw_train_ds.class_names[first_label])\n",
        "print(\"Vectorized review\", vectorize_text(first_review, first_label))"
      ]
    },
    {
      "cell_type": "code",
      "execution_count": null,
      "metadata": {
        "colab": {
          "base_uri": "https://localhost:8080/"
        },
        "id": "kRq9hTQzhVhW",
        "outputId": "27f888f1-69a1-4573-cf2e-45e8bc2fb452",
        "vscode": {
          "languageId": "python"
        }
      },
      "outputs": [
        {
          "output_type": "stream",
          "name": "stdout",
          "text": [
            "1287 --->  silent\n",
            " 313 --->  night\n",
            "Vocabulary size: 10000\n"
          ]
        }
      ],
      "source": [
        "print(\"1287 ---> \",vectorize_layer.get_vocabulary()[1287])\n",
        "print(\" 313 ---> \",vectorize_layer.get_vocabulary()[313])\n",
        "print('Vocabulary size: {}'.format(len(vectorize_layer.get_vocabulary())))"
      ]
    },
    {
      "cell_type": "code",
      "execution_count": null,
      "metadata": {
        "id": "2zhmpeViI1iG",
        "vscode": {
          "languageId": "python"
        }
      },
      "outputs": [],
      "source": [
        "train_ds = raw_train_ds.map(vectorize_text)\n",
        "val_ds = raw_val_ds.map(vectorize_text)\n",
        "test_ds = raw_test_ds.map(vectorize_text)"
      ]
    },
    {
      "cell_type": "markdown",
      "metadata": {
        "id": "YsVQyPMizjuO"
      },
      "source": [
        "### Configure the dataset for performance"
      ]
    },
    {
      "cell_type": "code",
      "source": [
        "train_ds"
      ],
      "metadata": {
        "colab": {
          "base_uri": "https://localhost:8080/"
        },
        "id": "RQb0NQ3h1O8t",
        "outputId": "9689cb3d-4cbc-4ed2-ae3e-b8c123445418"
      },
      "execution_count": null,
      "outputs": [
        {
          "output_type": "execute_result",
          "data": {
            "text/plain": [
              "<MapDataset element_spec=(TensorSpec(shape=(None, 250), dtype=tf.int64, name=None), TensorSpec(shape=(None,), dtype=tf.int32, name=None))>"
            ]
          },
          "metadata": {},
          "execution_count": 20
        }
      ]
    },
    {
      "cell_type": "code",
      "execution_count": null,
      "metadata": {
        "id": "wMcs_H7izm5m",
        "vscode": {
          "languageId": "python"
        }
      },
      "outputs": [],
      "source": [
        "AUTOTUNE = tf.data.AUTOTUNE\n",
        "\n",
        "train_ds = train_ds.cache().prefetch(buffer_size=AUTOTUNE)\n",
        "val_ds = val_ds.cache().prefetch(buffer_size=AUTOTUNE)\n",
        "test_ds = test_ds.cache().prefetch(buffer_size=AUTOTUNE)"
      ]
    },
    {
      "cell_type": "markdown",
      "metadata": {
        "id": "LLC02j2g-llC"
      },
      "source": [
        "### Create the model\n",
        "\n",
        "It's time to create your neural network:"
      ]
    },
    {
      "cell_type": "code",
      "execution_count": null,
      "metadata": {
        "id": "dkQP6in8yUBR",
        "vscode": {
          "languageId": "python"
        }
      },
      "outputs": [],
      "source": [
        "embedding_dim = 16"
      ]
    },
    {
      "cell_type": "code",
      "execution_count": null,
      "metadata": {
        "colab": {
          "base_uri": "https://localhost:8080/"
        },
        "id": "xpKOoWgu-llD",
        "outputId": "71f6efe3-bcd3-4859-f7a8-33bea99b3ca5",
        "vscode": {
          "languageId": "python"
        }
      },
      "outputs": [
        {
          "output_type": "stream",
          "name": "stdout",
          "text": [
            "Model: \"sequential\"\n",
            "_________________________________________________________________\n",
            " Layer (type)                Output Shape              Param #   \n",
            "=================================================================\n",
            " embedding (Embedding)       (None, None, 16)          160016    \n",
            "                                                                 \n",
            " dropout (Dropout)           (None, None, 16)          0         \n",
            "                                                                 \n",
            " global_average_pooling1d (G  (None, 16)               0         \n",
            " lobalAveragePooling1D)                                          \n",
            "                                                                 \n",
            " dropout_1 (Dropout)         (None, 16)                0         \n",
            "                                                                 \n",
            " dense (Dense)               (None, 1)                 17        \n",
            "                                                                 \n",
            "=================================================================\n",
            "Total params: 160,033\n",
            "Trainable params: 160,033\n",
            "Non-trainable params: 0\n",
            "_________________________________________________________________\n"
          ]
        }
      ],
      "source": [
        "OrigNN = tf.keras.Sequential([\n",
        "  layers.Embedding(max_features + 1, embedding_dim),\n",
        "  layers.Dropout(0.2),\n",
        "  layers.GlobalAveragePooling1D(),\n",
        "  layers.Dropout(0.2),\n",
        "  layers.Dense(1)])\n",
        "\n",
        "OrigNN.summary()"
      ]
    },
    {
      "cell_type": "markdown",
      "metadata": {
        "id": "L4EqVWg4-llM"
      },
      "source": [
        "### Loss function and optimizer\n",
        "\n",
        "Now, configure the model to use an optimizer and a loss function:"
      ]
    },
    {
      "cell_type": "code",
      "execution_count": null,
      "metadata": {
        "id": "Mr0GP-cQ-llN",
        "vscode": {
          "languageId": "python"
        }
      },
      "outputs": [],
      "source": [
        "OrigNN.compile(loss=losses.BinaryCrossentropy(from_logits=True),\n",
        "              optimizer='adam',\n",
        "              metrics=tf.metrics.BinaryAccuracy(threshold=0.0))"
      ]
    },
    {
      "cell_type": "markdown",
      "metadata": {
        "id": "35jv_fzP-llU"
      },
      "source": [
        "### Train the model\n"
      ]
    },
    {
      "cell_type": "code",
      "execution_count": null,
      "metadata": {
        "colab": {
          "base_uri": "https://localhost:8080/"
        },
        "id": "tXSGrjWZ-llW",
        "outputId": "fe4f080e-0386-4f28-8607-6baf653edcbe",
        "vscode": {
          "languageId": "python"
        }
      },
      "outputs": [
        {
          "output_type": "stream",
          "name": "stdout",
          "text": [
            "Epoch 1/10\n",
            "625/625 [==============================] - 15s 19ms/step - loss: 0.6634 - binary_accuracy: 0.6973 - val_loss: 0.6142 - val_binary_accuracy: 0.7746\n",
            "Epoch 2/10\n",
            "625/625 [==============================] - 3s 4ms/step - loss: 0.5481 - binary_accuracy: 0.8026 - val_loss: 0.4979 - val_binary_accuracy: 0.8220\n",
            "Epoch 3/10\n",
            "625/625 [==============================] - 3s 4ms/step - loss: 0.4443 - binary_accuracy: 0.8441 - val_loss: 0.4199 - val_binary_accuracy: 0.8462\n",
            "Epoch 4/10\n",
            "625/625 [==============================] - 3s 4ms/step - loss: 0.3780 - binary_accuracy: 0.8662 - val_loss: 0.3733 - val_binary_accuracy: 0.8608\n",
            "Epoch 5/10\n",
            "625/625 [==============================] - 3s 4ms/step - loss: 0.3350 - binary_accuracy: 0.8787 - val_loss: 0.3445 - val_binary_accuracy: 0.8672\n",
            "Epoch 6/10\n",
            "625/625 [==============================] - 3s 4ms/step - loss: 0.3049 - binary_accuracy: 0.8881 - val_loss: 0.3255 - val_binary_accuracy: 0.8718\n",
            "Epoch 7/10\n",
            "625/625 [==============================] - 3s 4ms/step - loss: 0.2807 - binary_accuracy: 0.8970 - val_loss: 0.3123 - val_binary_accuracy: 0.8740\n",
            "Epoch 8/10\n",
            "625/625 [==============================] - 3s 4ms/step - loss: 0.2617 - binary_accuracy: 0.9052 - val_loss: 0.3027 - val_binary_accuracy: 0.8758\n",
            "Epoch 9/10\n",
            "625/625 [==============================] - 3s 4ms/step - loss: 0.2460 - binary_accuracy: 0.9115 - val_loss: 0.2959 - val_binary_accuracy: 0.8786\n",
            "Epoch 10/10\n",
            "625/625 [==============================] - 3s 4ms/step - loss: 0.2304 - binary_accuracy: 0.9158 - val_loss: 0.2916 - val_binary_accuracy: 0.8806\n"
          ]
        }
      ],
      "source": [
        "epochs = 10\n",
        "history = OrigNN.fit(\n",
        "    train_ds,\n",
        "    validation_data=val_ds,\n",
        "    epochs=epochs)"
      ]
    },
    {
      "cell_type": "markdown",
      "metadata": {
        "id": "9EEGuDVuzb5r"
      },
      "source": [
        "### Evaluate the model\n",
        "\n",
        "Let's see how the model performs. Two values will be returned. Loss (a number which represents our error, lower values are better), and accuracy."
      ]
    },
    {
      "cell_type": "code",
      "execution_count": null,
      "metadata": {
        "colab": {
          "base_uri": "https://localhost:8080/"
        },
        "id": "zOMKywn4zReN",
        "outputId": "c3875415-79c9-47fa-ae00-8b9d37a9d5f3",
        "vscode": {
          "languageId": "python"
        }
      },
      "outputs": [
        {
          "output_type": "stream",
          "name": "stdout",
          "text": [
            "782/782 [==============================] - 6s 8ms/step - loss: 0.3103 - binary_accuracy: 0.8734\n",
            "Loss:  0.31028228998184204\n",
            "Accuracy:  0.8734400272369385\n"
          ]
        }
      ],
      "source": [
        "loss, accuracy = OrigNN.evaluate(test_ds)\n",
        "\n",
        "print(\"Loss: \", loss)\n",
        "print(\"Accuracy: \", accuracy)"
      ]
    },
    {
      "cell_type": "markdown",
      "metadata": {
        "id": "ldbQqCw2Xc1W"
      },
      "source": [
        "### Create a plot of accuracy and loss over time\n"
      ]
    },
    {
      "cell_type": "code",
      "execution_count": null,
      "metadata": {
        "colab": {
          "base_uri": "https://localhost:8080/"
        },
        "id": "-YcvZsdvWfDf",
        "outputId": "06314217-48b8-4b0a-d46e-8ca1afab2e7e",
        "vscode": {
          "languageId": "python"
        }
      },
      "outputs": [
        {
          "output_type": "execute_result",
          "data": {
            "text/plain": [
              "dict_keys(['loss', 'binary_accuracy', 'val_loss', 'val_binary_accuracy'])"
            ]
          },
          "metadata": {},
          "execution_count": 27
        }
      ],
      "source": [
        "history_dict = history.history\n",
        "history_dict.keys()"
      ]
    },
    {
      "cell_type": "code",
      "execution_count": null,
      "metadata": {
        "colab": {
          "base_uri": "https://localhost:8080/",
          "height": 295
        },
        "id": "2SEMeQ5YXs8z",
        "outputId": "00354852-4119-4abb-a502-bb69077d08a0",
        "vscode": {
          "languageId": "python"
        }
      },
      "outputs": [
        {
          "output_type": "display_data",
          "data": {
            "text/plain": [
              "<Figure size 432x288 with 1 Axes>"
            ],
            "image/png": "[encoded data removed]"
          },
          "metadata": {
            "needs_background": "light"
          }
        }
      ],
      "source": [
        "acc = history_dict['binary_accuracy']\n",
        "val_acc = history_dict['val_binary_accuracy']\n",
        "loss = history_dict['loss']\n",
        "val_loss = history_dict['val_loss']\n",
        "\n",
        "epochs = range(1, len(acc) + 1)\n",
        "\n",
        "# \"bo\" is for \"blue dot\"\n",
        "plt.plot(epochs, loss, 'bo', label='Training loss')\n",
        "# b is for \"solid blue line\"\n",
        "plt.plot(epochs, val_loss, 'b', label='Validation loss')\n",
        "plt.title('Training and validation loss')\n",
        "plt.xlabel('Epochs')\n",
        "plt.ylabel('Loss')\n",
        "plt.legend()\n",
        "\n",
        "plt.show()"
      ]
    },
    {
      "cell_type": "code",
      "execution_count": null,
      "metadata": {
        "colab": {
          "base_uri": "https://localhost:8080/",
          "height": 295
        },
        "id": "Z3PJemLPXwz_",
        "outputId": "d9fb6637-6a3c-43ca-af8f-1275079aabff",
        "vscode": {
          "languageId": "python"
        }
      },
      "outputs": [
        {
          "output_type": "display_data",
          "data": {
            "text/plain": [
              "<Figure size 432x288 with 1 Axes>"
            ],
            "image/png": "[encoded data removed]"
          },
          "metadata": {
            "needs_background": "light"
          }
        }
      ],
      "source": [
        "plt.plot(epochs, acc, 'bo', label='Training acc')\n",
        "plt.plot(epochs, val_acc, 'b', label='Validation acc')\n",
        "plt.title('Training and validation accuracy')\n",
        "plt.xlabel('Epochs')\n",
        "plt.ylabel('Accuracy')\n",
        "plt.legend(loc='lower right')\n",
        "\n",
        "plt.show()"
      ]
    },
    {
      "cell_type": "markdown",
      "metadata": {
        "id": "-to23J3Vy5d3"
      },
      "source": [
        "## Export the model"
      ]
    },
    {
      "cell_type": "code",
      "execution_count": null,
      "metadata": {
        "colab": {
          "base_uri": "https://localhost:8080/"
        },
        "id": "FWXsMvryuZuq",
        "outputId": "be87f100-b01b-498d-e683-b80f72770dea",
        "vscode": {
          "languageId": "python"
        }
      },
      "outputs": [
        {
          "output_type": "stream",
          "name": "stdout",
          "text": [
            "782/782 [==============================] - 7s 9ms/step - loss: 0.3103 - accuracy: 0.8734\n",
            "0.8734400272369385\n"
          ]
        }
      ],
      "source": [
        "export_OrigNN = tf.keras.Sequential([\n",
        "  vectorize_layer,\n",
        "  OrigNN,\n",
        "  layers.Activation('sigmoid')\n",
        "])\n",
        "\n",
        "export_OrigNN.compile(\n",
        "    loss=losses.BinaryCrossentropy(from_logits=False), optimizer=\"adam\", metrics=['accuracy']\n",
        ")\n",
        "\n",
        "# Test it with `raw_test_ds`, which yields raw strings\n",
        "loss, accuracy = export_OrigNN.evaluate(raw_test_ds)\n",
        "print(accuracy)"
      ]
    },
    {
      "cell_type": "markdown",
      "metadata": {
        "id": "TwQgoN88LoEF"
      },
      "source": [
        "### Inference on new data\n",
        "\n",
        "To get predictions for new examples, you can simply call `model.predict()`."
      ]
    },
    {
      "cell_type": "code",
      "execution_count": null,
      "metadata": {
        "colab": {
          "base_uri": "https://localhost:8080/"
        },
        "id": "QW355HH5L49K",
        "outputId": "0d21519a-2872-4f9f-ddd3-b461b2993f3d",
        "vscode": {
          "languageId": "python"
        }
      },
      "outputs": [
        {
          "output_type": "stream",
          "name": "stdout",
          "text": [
            "1/1 [==============================] - 0s 119ms/step\n"
          ]
        },
        {
          "output_type": "execute_result",
          "data": {
            "text/plain": [
              "array([[0.6088988 ],\n",
              "       [0.4310202 ],\n",
              "       [0.34893325]], dtype=float32)"
            ]
          },
          "metadata": {},
          "execution_count": 31
        }
      ],
      "source": [
        "examples = [\n",
        "  \"The movie was great!\",\n",
        "  \"The movie was okay.\",\n",
        "  \"The movie was terrible...\"\n",
        "]\n",
        "\n",
        "export_OrigNN.predict(examples)"
      ]
    },
    {
      "cell_type": "markdown",
      "source": [
        "# Task 1 "
      ],
      "metadata": {
        "id": "DmzH71mlzqhB"
      }
    },
    {
      "cell_type": "code",
      "source": [
        "DenseNNi = tf.keras.Sequential([\n",
        "  layers.Embedding(max_features + 1, embedding_dim),\n",
        "  layers.Dense(220),\n",
        "  layers.Dropout(0.2),\n",
        "  layers.GlobalAveragePooling1D(),\n",
        "  layers.Dropout(0.2),\n",
        "  layers.Dense(1)])\n",
        "\n",
        "DenseNNi.summary()"
      ],
      "metadata": {
        "colab": {
          "base_uri": "https://localhost:8080/"
        },
        "id": "_jVwgYZWk86S",
        "outputId": "54236130-d985-4b93-e5dd-fd2bbe843aa5"
      },
      "execution_count": null,
      "outputs": [
        {
          "output_type": "stream",
          "name": "stdout",
          "text": [
            "Model: \"sequential_2\"\n",
            "_________________________________________________________________\n",
            " Layer (type)                Output Shape              Param #   \n",
            "=================================================================\n",
            " embedding_1 (Embedding)     (None, None, 16)          160016    \n",
            "                                                                 \n",
            " dense_1 (Dense)             (None, None, 220)         3740      \n",
            "                                                                 \n",
            " dropout_2 (Dropout)         (None, None, 220)         0         \n",
            "                                                                 \n",
            " global_average_pooling1d_1   (None, 220)              0         \n",
            " (GlobalAveragePooling1D)                                        \n",
            "                                                                 \n",
            " dropout_3 (Dropout)         (None, 220)               0         \n",
            "                                                                 \n",
            " dense_2 (Dense)             (None, 1)                 221       \n",
            "                                                                 \n",
            "=================================================================\n",
            "Total params: 163,977\n",
            "Trainable params: 163,977\n",
            "Non-trainable params: 0\n",
            "_________________________________________________________________\n"
          ]
        }
      ]
    },
    {
      "cell_type": "code",
      "source": [
        "DenseNNi.compile(loss=losses.BinaryCrossentropy(from_logits=True),\n",
        "              optimizer='adam',\n",
        "              metrics=tf.metrics.BinaryAccuracy(threshold=0.0))"
      ],
      "metadata": {
        "id": "SWeCqjknlbKN"
      },
      "execution_count": null,
      "outputs": []
    },
    {
      "cell_type": "code",
      "source": [
        "epochs = 10\n",
        "history_DenseNNi = DenseNNi.fit(\n",
        "    train_ds,\n",
        "    validation_data=val_ds,\n",
        "    epochs=epochs)"
      ],
      "metadata": {
        "colab": {
          "base_uri": "https://localhost:8080/"
        },
        "id": "0aP3MEt0lgf8",
        "outputId": "3a176842-c003-44b3-d2c7-e1a04da8d451"
      },
      "execution_count": null,
      "outputs": [
        {
          "output_type": "stream",
          "name": "stdout",
          "text": [
            "Epoch 1/10\n",
            "625/625 [==============================] - 4s 5ms/step - loss: 0.4543 - binary_accuracy: 0.7711 - val_loss: 0.3103 - val_binary_accuracy: 0.8728\n",
            "Epoch 2/10\n",
            "625/625 [==============================] - 3s 5ms/step - loss: 0.2428 - binary_accuracy: 0.9039 - val_loss: 0.3051 - val_binary_accuracy: 0.8754\n",
            "Epoch 3/10\n",
            "625/625 [==============================] - 3s 5ms/step - loss: 0.1839 - binary_accuracy: 0.9317 - val_loss: 0.3392 - val_binary_accuracy: 0.8652\n",
            "Epoch 4/10\n",
            "625/625 [==============================] - 3s 5ms/step - loss: 0.1440 - binary_accuracy: 0.9483 - val_loss: 0.3879 - val_binary_accuracy: 0.8646\n",
            "Epoch 5/10\n",
            "625/625 [==============================] - 3s 5ms/step - loss: 0.1134 - binary_accuracy: 0.9619 - val_loss: 0.4459 - val_binary_accuracy: 0.8668\n",
            "Epoch 6/10\n",
            "625/625 [==============================] - 4s 6ms/step - loss: 0.0884 - binary_accuracy: 0.9718 - val_loss: 0.5221 - val_binary_accuracy: 0.8630\n",
            "Epoch 7/10\n",
            "625/625 [==============================] - 3s 5ms/step - loss: 0.0701 - binary_accuracy: 0.9793 - val_loss: 0.6194 - val_binary_accuracy: 0.8604\n",
            "Epoch 8/10\n",
            "625/625 [==============================] - 3s 5ms/step - loss: 0.0594 - binary_accuracy: 0.9826 - val_loss: 0.7318 - val_binary_accuracy: 0.8566\n",
            "Epoch 9/10\n",
            "625/625 [==============================] - 3s 5ms/step - loss: 0.0691 - binary_accuracy: 0.9747 - val_loss: 0.8892 - val_binary_accuracy: 0.8376\n",
            "Epoch 10/10\n",
            "625/625 [==============================] - 3s 5ms/step - loss: 0.1022 - binary_accuracy: 0.9607 - val_loss: 0.6868 - val_binary_accuracy: 0.8590\n"
          ]
        }
      ]
    },
    {
      "cell_type": "code",
      "source": [
        "loss, accuracy = DenseNNi.evaluate(test_ds)\n",
        "\n",
        "print(\"Loss: \", loss)\n",
        "print(\"Accuracy: \", accuracy)"
      ],
      "metadata": {
        "colab": {
          "base_uri": "https://localhost:8080/"
        },
        "id": "uFqxWaSesExG",
        "outputId": "ce573e05-312f-4ce0-e187-17394b7bffb4"
      },
      "execution_count": null,
      "outputs": [
        {
          "output_type": "stream",
          "name": "stdout",
          "text": [
            "782/782 [==============================] - 2s 3ms/step - loss: 0.8275 - binary_accuracy: 0.8359\n",
            "Loss:  0.8275288939476013\n",
            "Accuracy:  0.8358799815177917\n"
          ]
        }
      ]
    },
    {
      "cell_type": "markdown",
      "source": [
        "At the first epoch DenseNNi model has 0.87 accuracy while Ori model only has 0.77 but increase to the last epoch DenseNNi model accuracy is only 0.85, Ori model accuracy is 0.88 => We can see Ori model better than DenseNNi"
      ],
      "metadata": {
        "id": "Kiil3M_pmvZ1"
      }
    },
    {
      "cell_type": "markdown",
      "source": [
        "# Task 2"
      ],
      "metadata": {
        "id": "uWvP3ejL0MJg"
      }
    },
    {
      "cell_type": "code",
      "source": [
        "DenseNNii = tf.keras.Sequential([\n",
        "  layers.Embedding(max_features + 1, embedding_dim),\n",
        "  layers.Dense(220),\n",
        "  layers.Dropout(0.2),\n",
        "  layers.GlobalAveragePooling1D(),\n",
        "  layers.Dropout(0.6),\n",
        "  layers.Dense(1)])\n",
        "\n",
        "DenseNNii.summary()"
      ],
      "metadata": {
        "colab": {
          "base_uri": "https://localhost:8080/"
        },
        "id": "TFRt-Ybvlt__",
        "outputId": "0f88217b-7f4e-43ca-e643-0243f100515d"
      },
      "execution_count": null,
      "outputs": [
        {
          "output_type": "stream",
          "name": "stdout",
          "text": [
            "Model: \"sequential_3\"\n",
            "_________________________________________________________________\n",
            " Layer (type)                Output Shape              Param #   \n",
            "=================================================================\n",
            " embedding_2 (Embedding)     (None, None, 16)          160016    \n",
            "                                                                 \n",
            " dense_3 (Dense)             (None, None, 220)         3740      \n",
            "                                                                 \n",
            " dropout_4 (Dropout)         (None, None, 220)         0         \n",
            "                                                                 \n",
            " global_average_pooling1d_2   (None, 220)              0         \n",
            " (GlobalAveragePooling1D)                                        \n",
            "                                                                 \n",
            " dropout_5 (Dropout)         (None, 220)               0         \n",
            "                                                                 \n",
            " dense_4 (Dense)             (None, 1)                 221       \n",
            "                                                                 \n",
            "=================================================================\n",
            "Total params: 163,977\n",
            "Trainable params: 163,977\n",
            "Non-trainable params: 0\n",
            "_________________________________________________________________\n"
          ]
        }
      ]
    },
    {
      "cell_type": "code",
      "source": [
        "DenseNNiii = tf.keras.Sequential([\n",
        "  layers.Embedding(max_features + 1, embedding_dim),\n",
        "  layers.Dense(220),\n",
        "  layers.Dropout(0.6),\n",
        "  layers.GlobalAveragePooling1D(),\n",
        "  layers.Dropout(0.2),\n",
        "  layers.Dense(1)])\n",
        "\n",
        "DenseNNiii.summary()"
      ],
      "metadata": {
        "colab": {
          "base_uri": "https://localhost:8080/"
        },
        "id": "0iNccbWnl7by",
        "outputId": "c81ae201-4a48-4c07-ef45-b726fa710794"
      },
      "execution_count": null,
      "outputs": [
        {
          "output_type": "stream",
          "name": "stdout",
          "text": [
            "Model: \"sequential_4\"\n",
            "_________________________________________________________________\n",
            " Layer (type)                Output Shape              Param #   \n",
            "=================================================================\n",
            " embedding_3 (Embedding)     (None, None, 16)          160016    \n",
            "                                                                 \n",
            " dense_5 (Dense)             (None, None, 220)         3740      \n",
            "                                                                 \n",
            " dropout_6 (Dropout)         (None, None, 220)         0         \n",
            "                                                                 \n",
            " global_average_pooling1d_3   (None, 220)              0         \n",
            " (GlobalAveragePooling1D)                                        \n",
            "                                                                 \n",
            " dropout_7 (Dropout)         (None, 220)               0         \n",
            "                                                                 \n",
            " dense_6 (Dense)             (None, 1)                 221       \n",
            "                                                                 \n",
            "=================================================================\n",
            "Total params: 163,977\n",
            "Trainable params: 163,977\n",
            "Non-trainable params: 0\n",
            "_________________________________________________________________\n"
          ]
        }
      ]
    },
    {
      "cell_type": "code",
      "source": [
        "DenseNNiv = tf.keras.Sequential([\n",
        "  layers.Embedding(max_features + 1, embedding_dim),\n",
        "  layers.Dense(220),\n",
        "  layers.Dropout(0.6),\n",
        "  layers.GlobalAveragePooling1D(),\n",
        "  layers.Dropout(0.6),\n",
        "  layers.Dense(1)])\n",
        "\n",
        "DenseNNiv.summary()"
      ],
      "metadata": {
        "colab": {
          "base_uri": "https://localhost:8080/"
        },
        "id": "4yhQy1x5mBvJ",
        "outputId": "4d516c6f-61ec-4276-e969-8e8cb8473df9"
      },
      "execution_count": null,
      "outputs": [
        {
          "output_type": "stream",
          "name": "stdout",
          "text": [
            "Model: \"sequential_5\"\n",
            "_________________________________________________________________\n",
            " Layer (type)                Output Shape              Param #   \n",
            "=================================================================\n",
            " embedding_4 (Embedding)     (None, None, 16)          160016    \n",
            "                                                                 \n",
            " dense_7 (Dense)             (None, None, 220)         3740      \n",
            "                                                                 \n",
            " dropout_8 (Dropout)         (None, None, 220)         0         \n",
            "                                                                 \n",
            " global_average_pooling1d_4   (None, 220)              0         \n",
            " (GlobalAveragePooling1D)                                        \n",
            "                                                                 \n",
            " dropout_9 (Dropout)         (None, 220)               0         \n",
            "                                                                 \n",
            " dense_8 (Dense)             (None, 1)                 221       \n",
            "                                                                 \n",
            "=================================================================\n",
            "Total params: 163,977\n",
            "Trainable params: 163,977\n",
            "Non-trainable params: 0\n",
            "_________________________________________________________________\n"
          ]
        }
      ]
    },
    {
      "cell_type": "code",
      "source": [
        "DenseNNii.compile(loss=losses.BinaryCrossentropy(from_logits=True),\n",
        "              optimizer='adam',\n",
        "              metrics=tf.metrics.BinaryAccuracy(threshold=0.0))"
      ],
      "metadata": {
        "id": "MUZGeji9mF6I"
      },
      "execution_count": null,
      "outputs": []
    },
    {
      "cell_type": "code",
      "source": [
        "DenseNNiii.compile(loss=losses.BinaryCrossentropy(from_logits=True),\n",
        "              optimizer='adam',\n",
        "              metrics=tf.metrics.BinaryAccuracy(threshold=0.0))"
      ],
      "metadata": {
        "id": "gC9UeSCPmGIj"
      },
      "execution_count": null,
      "outputs": []
    },
    {
      "cell_type": "code",
      "source": [
        "DenseNNiv.compile(loss=losses.BinaryCrossentropy(from_logits=True),\n",
        "              optimizer='adam',\n",
        "              metrics=tf.metrics.BinaryAccuracy(threshold=0.0))"
      ],
      "metadata": {
        "id": "Yv2ZaHi4mJBU"
      },
      "execution_count": null,
      "outputs": []
    },
    {
      "cell_type": "code",
      "source": [
        "epochs = 10\n",
        "history_DenseNNii = DenseNNii.fit(\n",
        "    train_ds,\n",
        "    validation_data=val_ds,\n",
        "    epochs=epochs)"
      ],
      "metadata": {
        "colab": {
          "base_uri": "https://localhost:8080/"
        },
        "id": "wklD0PitmPVm",
        "outputId": "c57c0f2a-570a-4a86-b895-557aaec7b108"
      },
      "execution_count": null,
      "outputs": [
        {
          "output_type": "stream",
          "name": "stdout",
          "text": [
            "Epoch 1/10\n",
            "625/625 [==============================] - 4s 5ms/step - loss: 0.4919 - binary_accuracy: 0.7459 - val_loss: 0.3145 - val_binary_accuracy: 0.8714\n",
            "Epoch 2/10\n",
            "625/625 [==============================] - 3s 5ms/step - loss: 0.2567 - binary_accuracy: 0.8981 - val_loss: 0.2959 - val_binary_accuracy: 0.8790\n",
            "Epoch 3/10\n",
            "625/625 [==============================] - 3s 6ms/step - loss: 0.1957 - binary_accuracy: 0.9265 - val_loss: 0.3174 - val_binary_accuracy: 0.8738\n",
            "Epoch 4/10\n",
            "625/625 [==============================] - 3s 5ms/step - loss: 0.1565 - binary_accuracy: 0.9435 - val_loss: 0.3486 - val_binary_accuracy: 0.8710\n",
            "Epoch 5/10\n",
            "625/625 [==============================] - 3s 5ms/step - loss: 0.1241 - binary_accuracy: 0.9573 - val_loss: 0.4021 - val_binary_accuracy: 0.8690\n",
            "Epoch 6/10\n",
            "625/625 [==============================] - 3s 5ms/step - loss: 0.0995 - binary_accuracy: 0.9674 - val_loss: 0.4612 - val_binary_accuracy: 0.8672\n",
            "Epoch 7/10\n",
            "625/625 [==============================] - 3s 5ms/step - loss: 0.0776 - binary_accuracy: 0.9767 - val_loss: 0.5419 - val_binary_accuracy: 0.8616\n",
            "Epoch 8/10\n",
            "625/625 [==============================] - 3s 5ms/step - loss: 0.0636 - binary_accuracy: 0.9816 - val_loss: 0.6557 - val_binary_accuracy: 0.8516\n",
            "Epoch 9/10\n",
            "625/625 [==============================] - 3s 5ms/step - loss: 0.0521 - binary_accuracy: 0.9853 - val_loss: 0.7417 - val_binary_accuracy: 0.8534\n",
            "Epoch 10/10\n",
            "625/625 [==============================] - 3s 5ms/step - loss: 0.0491 - binary_accuracy: 0.9844 - val_loss: 0.8479 - val_binary_accuracy: 0.8484\n"
          ]
        }
      ]
    },
    {
      "cell_type": "code",
      "source": [
        "epochs = 10\n",
        "history_DenseNNiii = DenseNNiii.fit(\n",
        "    train_ds,\n",
        "    validation_data=val_ds,\n",
        "    epochs=epochs)"
      ],
      "metadata": {
        "colab": {
          "base_uri": "https://localhost:8080/"
        },
        "id": "9r3BtbYemPem",
        "outputId": "46aca61a-8ee9-448d-df09-f89c6be24408"
      },
      "execution_count": null,
      "outputs": [
        {
          "output_type": "stream",
          "name": "stdout",
          "text": [
            "Epoch 1/10\n",
            "625/625 [==============================] - 4s 5ms/step - loss: 0.4655 - binary_accuracy: 0.7640 - val_loss: 0.3098 - val_binary_accuracy: 0.8734\n",
            "Epoch 2/10\n",
            "625/625 [==============================] - 3s 5ms/step - loss: 0.2461 - binary_accuracy: 0.9021 - val_loss: 0.3049 - val_binary_accuracy: 0.8754\n",
            "Epoch 3/10\n",
            "625/625 [==============================] - 4s 6ms/step - loss: 0.1858 - binary_accuracy: 0.9295 - val_loss: 0.3348 - val_binary_accuracy: 0.8702\n",
            "Epoch 4/10\n",
            "625/625 [==============================] - 4s 6ms/step - loss: 0.1459 - binary_accuracy: 0.9470 - val_loss: 0.3786 - val_binary_accuracy: 0.8662\n",
            "Epoch 5/10\n",
            "625/625 [==============================] - 3s 5ms/step - loss: 0.1162 - binary_accuracy: 0.9606 - val_loss: 0.4415 - val_binary_accuracy: 0.8626\n",
            "Epoch 6/10\n",
            "625/625 [==============================] - 3s 5ms/step - loss: 0.0926 - binary_accuracy: 0.9699 - val_loss: 0.5115 - val_binary_accuracy: 0.8590\n",
            "Epoch 7/10\n",
            "625/625 [==============================] - 3s 5ms/step - loss: 0.0759 - binary_accuracy: 0.9756 - val_loss: 0.5856 - val_binary_accuracy: 0.8558\n",
            "Epoch 8/10\n",
            "625/625 [==============================] - 3s 5ms/step - loss: 0.0671 - binary_accuracy: 0.9773 - val_loss: 0.6785 - val_binary_accuracy: 0.8552\n",
            "Epoch 9/10\n",
            "625/625 [==============================] - 3s 5ms/step - loss: 0.0692 - binary_accuracy: 0.9747 - val_loss: 0.8560 - val_binary_accuracy: 0.8344\n",
            "Epoch 10/10\n",
            "625/625 [==============================] - 3s 5ms/step - loss: 0.0875 - binary_accuracy: 0.9672 - val_loss: 0.7241 - val_binary_accuracy: 0.8552\n"
          ]
        }
      ]
    },
    {
      "cell_type": "code",
      "source": [
        "epochs = 10\n",
        "history_DenseNNiv = DenseNNiv.fit(\n",
        "    train_ds,\n",
        "    validation_data=val_ds,\n",
        "    epochs=epochs)"
      ],
      "metadata": {
        "colab": {
          "base_uri": "https://localhost:8080/"
        },
        "id": "qcmmWrkbmPzL",
        "outputId": "1fe4068b-9794-451f-ba54-1cfee661fd79"
      },
      "execution_count": null,
      "outputs": [
        {
          "output_type": "stream",
          "name": "stdout",
          "text": [
            "Epoch 1/10\n",
            "625/625 [==============================] - 4s 5ms/step - loss: 0.4918 - binary_accuracy: 0.7472 - val_loss: 0.3143 - val_binary_accuracy: 0.8714\n",
            "Epoch 2/10\n",
            "625/625 [==============================] - 3s 5ms/step - loss: 0.2580 - binary_accuracy: 0.8980 - val_loss: 0.2980 - val_binary_accuracy: 0.8780\n",
            "Epoch 3/10\n",
            "625/625 [==============================] - 3s 5ms/step - loss: 0.1988 - binary_accuracy: 0.9229 - val_loss: 0.3105 - val_binary_accuracy: 0.8740\n",
            "Epoch 4/10\n",
            "625/625 [==============================] - 3s 5ms/step - loss: 0.1586 - binary_accuracy: 0.9426 - val_loss: 0.3445 - val_binary_accuracy: 0.8720\n",
            "Epoch 5/10\n",
            "625/625 [==============================] - 3s 5ms/step - loss: 0.1292 - binary_accuracy: 0.9548 - val_loss: 0.3886 - val_binary_accuracy: 0.8698\n",
            "Epoch 6/10\n",
            "625/625 [==============================] - 3s 5ms/step - loss: 0.1044 - binary_accuracy: 0.9651 - val_loss: 0.4453 - val_binary_accuracy: 0.8644\n",
            "Epoch 7/10\n",
            "625/625 [==============================] - 3s 5ms/step - loss: 0.0868 - binary_accuracy: 0.9720 - val_loss: 0.5187 - val_binary_accuracy: 0.8606\n",
            "Epoch 8/10\n",
            "625/625 [==============================] - 3s 5ms/step - loss: 0.0753 - binary_accuracy: 0.9737 - val_loss: 0.5688 - val_binary_accuracy: 0.8632\n",
            "Epoch 9/10\n",
            "625/625 [==============================] - 3s 5ms/step - loss: 0.0638 - binary_accuracy: 0.9778 - val_loss: 0.6551 - val_binary_accuracy: 0.8586\n",
            "Epoch 10/10\n",
            "625/625 [==============================] - 3s 5ms/step - loss: 0.0543 - binary_accuracy: 0.9815 - val_loss: 0.7229 - val_binary_accuracy: 0.8556\n"
          ]
        }
      ]
    },
    {
      "cell_type": "code",
      "source": [
        "loss, accuracy = DenseNNii.evaluate(test_ds)\n",
        "\n",
        "print(\"Loss: \", loss)\n",
        "print(\"Accuracy: \", accuracy)"
      ],
      "metadata": {
        "colab": {
          "base_uri": "https://localhost:8080/"
        },
        "id": "HRfNQhS_sE2Z",
        "outputId": "a727bf01-9b7c-4efd-8a0f-18892e2c7d2f"
      },
      "execution_count": null,
      "outputs": [
        {
          "output_type": "stream",
          "name": "stdout",
          "text": [
            "782/782 [==============================] - 2s 3ms/step - loss: 1.0363 - binary_accuracy: 0.8269\n",
            "Loss:  1.036281704902649\n",
            "Accuracy:  0.8269199728965759\n"
          ]
        }
      ]
    },
    {
      "cell_type": "code",
      "source": [
        "loss, accuracy = DenseNNiii.evaluate(test_ds)\n",
        "\n",
        "print(\"Loss: \", loss)\n",
        "print(\"Accuracy: \", accuracy)"
      ],
      "metadata": {
        "colab": {
          "base_uri": "https://localhost:8080/"
        },
        "id": "tlO-UCc2sE8O",
        "outputId": "bb931ac9-e086-4542-bb75-958abf090c3c"
      },
      "execution_count": null,
      "outputs": [
        {
          "output_type": "stream",
          "name": "stdout",
          "text": [
            "782/782 [==============================] - 2s 3ms/step - loss: 0.8746 - binary_accuracy: 0.8351\n",
            "Loss:  0.8746172785758972\n",
            "Accuracy:  0.8351200222969055\n"
          ]
        }
      ]
    },
    {
      "cell_type": "code",
      "source": [
        "loss, accuracy = DenseNNiv.evaluate(test_ds)\n",
        "\n",
        "print(\"Loss: \", loss)\n",
        "print(\"Accuracy: \", accuracy)"
      ],
      "metadata": {
        "colab": {
          "base_uri": "https://localhost:8080/"
        },
        "id": "FouvOr19sFBc",
        "outputId": "b3701f01-679d-4cef-c3cd-14182beabd36"
      },
      "execution_count": null,
      "outputs": [
        {
          "output_type": "stream",
          "name": "stdout",
          "text": [
            "782/782 [==============================] - 2s 3ms/step - loss: 0.8818 - binary_accuracy: 0.8334\n",
            "Loss:  0.8818385004997253\n",
            "Accuracy:  0.8334000110626221\n"
          ]
        }
      ]
    },
    {
      "cell_type": "markdown",
      "source": [
        "At the first epoch all Dense model has 0.87 accuracy, while Ori model only has 0.77 but increase to the last epoch DenseNNi, Denseiii, Denseiv model accuracy is only 0.85, Denseii accuracy is 0.84, Ori model accuracy is 0.88 => We can see Ori model better than DenseNN model"
      ],
      "metadata": {
        "id": "8ekK3xaanNkz"
      }
    },
    {
      "cell_type": "markdown",
      "source": [
        "# Task 3"
      ],
      "metadata": {
        "id": "jaFdmx4v02PZ"
      }
    },
    {
      "cell_type": "code",
      "source": [
        "CNNi = tf.keras.Sequential([\n",
        "  layers.Embedding(max_features + 1, embedding_dim),\n",
        "  layers.Dropout(0.2),\n",
        "  layers.Conv1D(8, 7, padding=\"valid\", activation=\"relu\", strides=3),\n",
        "  layers.GlobalAveragePooling1D(),\n",
        "  layers.Dropout(0.2),\n",
        "  layers.Dense(1)\n",
        "  ])\n",
        "\n",
        "CNNi.summary()"
      ],
      "metadata": {
        "colab": {
          "base_uri": "https://localhost:8080/"
        },
        "id": "MWpskW1dnMZt",
        "outputId": "4d89cf0c-fb94-494d-e701-0579abc1374c"
      },
      "execution_count": null,
      "outputs": [
        {
          "output_type": "stream",
          "name": "stdout",
          "text": [
            "Model: \"sequential_6\"\n",
            "_________________________________________________________________\n",
            " Layer (type)                Output Shape              Param #   \n",
            "=================================================================\n",
            " embedding_5 (Embedding)     (None, None, 16)          160016    \n",
            "                                                                 \n",
            " dropout_10 (Dropout)        (None, None, 16)          0         \n",
            "                                                                 \n",
            " conv1d (Conv1D)             (None, None, 8)           904       \n",
            "                                                                 \n",
            " global_average_pooling1d_5   (None, 8)                0         \n",
            " (GlobalAveragePooling1D)                                        \n",
            "                                                                 \n",
            " dropout_11 (Dropout)        (None, 8)                 0         \n",
            "                                                                 \n",
            " dense_9 (Dense)             (None, 1)                 9         \n",
            "                                                                 \n",
            "=================================================================\n",
            "Total params: 160,929\n",
            "Trainable params: 160,929\n",
            "Non-trainable params: 0\n",
            "_________________________________________________________________\n"
          ]
        }
      ]
    },
    {
      "cell_type": "code",
      "source": [
        "CNNii = tf.keras.Sequential([\n",
        "  layers.Embedding(max_features + 1, embedding_dim),\n",
        "  layers.Dropout(0.2),\n",
        "  layers.Conv1D(8, 7, padding=\"valid\", activation=\"relu\", strides=3),\n",
        "  layers.GlobalAveragePooling1D(),\n",
        "  layers.Dropout(0.6),\n",
        "  layers.Dense(1)\n",
        "  ])\n",
        "\n",
        "CNNii.summary()"
      ],
      "metadata": {
        "colab": {
          "base_uri": "https://localhost:8080/"
        },
        "id": "Aemi43cQoWn_",
        "outputId": "1ae1f0a7-c49a-4620-eccb-a86185a122e5"
      },
      "execution_count": null,
      "outputs": [
        {
          "output_type": "stream",
          "name": "stdout",
          "text": [
            "Model: \"sequential_7\"\n",
            "_________________________________________________________________\n",
            " Layer (type)                Output Shape              Param #   \n",
            "=================================================================\n",
            " embedding_6 (Embedding)     (None, None, 16)          160016    \n",
            "                                                                 \n",
            " dropout_12 (Dropout)        (None, None, 16)          0         \n",
            "                                                                 \n",
            " conv1d_1 (Conv1D)           (None, None, 8)           904       \n",
            "                                                                 \n",
            " global_average_pooling1d_6   (None, 8)                0         \n",
            " (GlobalAveragePooling1D)                                        \n",
            "                                                                 \n",
            " dropout_13 (Dropout)        (None, 8)                 0         \n",
            "                                                                 \n",
            " dense_10 (Dense)            (None, 1)                 9         \n",
            "                                                                 \n",
            "=================================================================\n",
            "Total params: 160,929\n",
            "Trainable params: 160,929\n",
            "Non-trainable params: 0\n",
            "_________________________________________________________________\n"
          ]
        }
      ]
    },
    {
      "cell_type": "code",
      "source": [
        "CNNiii = tf.keras.Sequential([\n",
        "  layers.Embedding(max_features + 1, embedding_dim),\n",
        "  layers.Dropout(0.6),\n",
        "  layers.Conv1D(8, 7, padding=\"valid\", activation=\"relu\", strides=3),\n",
        "  layers.GlobalAveragePooling1D(),\n",
        "  layers.Dropout(0.2),\n",
        "  layers.Dense(1)\n",
        "  ])\n",
        "\n",
        "CNNiii.summary()"
      ],
      "metadata": {
        "colab": {
          "base_uri": "https://localhost:8080/"
        },
        "id": "rtjGvOcZoXKT",
        "outputId": "7fa5e7d8-50a3-4eaf-fe35-91ebfd8f3438"
      },
      "execution_count": null,
      "outputs": [
        {
          "output_type": "stream",
          "name": "stdout",
          "text": [
            "Model: \"sequential_8\"\n",
            "_________________________________________________________________\n",
            " Layer (type)                Output Shape              Param #   \n",
            "=================================================================\n",
            " embedding_7 (Embedding)     (None, None, 16)          160016    \n",
            "                                                                 \n",
            " dropout_14 (Dropout)        (None, None, 16)          0         \n",
            "                                                                 \n",
            " conv1d_2 (Conv1D)           (None, None, 8)           904       \n",
            "                                                                 \n",
            " global_average_pooling1d_7   (None, 8)                0         \n",
            " (GlobalAveragePooling1D)                                        \n",
            "                                                                 \n",
            " dropout_15 (Dropout)        (None, 8)                 0         \n",
            "                                                                 \n",
            " dense_11 (Dense)            (None, 1)                 9         \n",
            "                                                                 \n",
            "=================================================================\n",
            "Total params: 160,929\n",
            "Trainable params: 160,929\n",
            "Non-trainable params: 0\n",
            "_________________________________________________________________\n"
          ]
        }
      ]
    },
    {
      "cell_type": "code",
      "source": [
        "CNNiv = tf.keras.Sequential([\n",
        "  layers.Embedding(max_features + 1, embedding_dim),\n",
        "  layers.Dropout(0.6),\n",
        "  layers.Conv1D(8, 7, padding=\"valid\", activation=\"relu\", strides=3),\n",
        "  layers.GlobalAveragePooling1D(),\n",
        "  layers.Dropout(0.6),\n",
        "  layers.Dense(1)\n",
        "  ])\n",
        "\n",
        "CNNiv.summary()"
      ],
      "metadata": {
        "colab": {
          "base_uri": "https://localhost:8080/"
        },
        "id": "KnCt5zgvoXPj",
        "outputId": "a43f6b8d-e4a8-447c-d3e0-c5a64f93053b"
      },
      "execution_count": null,
      "outputs": [
        {
          "output_type": "stream",
          "name": "stdout",
          "text": [
            "Model: \"sequential_9\"\n",
            "_________________________________________________________________\n",
            " Layer (type)                Output Shape              Param #   \n",
            "=================================================================\n",
            " embedding_8 (Embedding)     (None, None, 16)          160016    \n",
            "                                                                 \n",
            " dropout_16 (Dropout)        (None, None, 16)          0         \n",
            "                                                                 \n",
            " conv1d_3 (Conv1D)           (None, None, 8)           904       \n",
            "                                                                 \n",
            " global_average_pooling1d_8   (None, 8)                0         \n",
            " (GlobalAveragePooling1D)                                        \n",
            "                                                                 \n",
            " dropout_17 (Dropout)        (None, 8)                 0         \n",
            "                                                                 \n",
            " dense_12 (Dense)            (None, 1)                 9         \n",
            "                                                                 \n",
            "=================================================================\n",
            "Total params: 160,929\n",
            "Trainable params: 160,929\n",
            "Non-trainable params: 0\n",
            "_________________________________________________________________\n"
          ]
        }
      ]
    },
    {
      "cell_type": "code",
      "source": [
        "CNNi.compile(loss=losses.BinaryCrossentropy(from_logits=True),\n",
        "              optimizer='adam',\n",
        "              metrics=tf.metrics.BinaryAccuracy(threshold=0.0))"
      ],
      "metadata": {
        "id": "f9XmhDsfotDl"
      },
      "execution_count": null,
      "outputs": []
    },
    {
      "cell_type": "code",
      "source": [
        "CNNii.compile(loss=losses.BinaryCrossentropy(from_logits=True),\n",
        "              optimizer='adam',\n",
        "              metrics=tf.metrics.BinaryAccuracy(threshold=0.0))"
      ],
      "metadata": {
        "id": "rf43n1HhotHo"
      },
      "execution_count": null,
      "outputs": []
    },
    {
      "cell_type": "code",
      "source": [
        "CNNiii.compile(loss=losses.BinaryCrossentropy(from_logits=True),\n",
        "              optimizer='adam',\n",
        "              metrics=tf.metrics.BinaryAccuracy(threshold=0.0))"
      ],
      "metadata": {
        "id": "ELgehs3dotM5"
      },
      "execution_count": null,
      "outputs": []
    },
    {
      "cell_type": "code",
      "source": [
        "CNNiv.compile(loss=losses.BinaryCrossentropy(from_logits=True),\n",
        "              optimizer='adam',\n",
        "              metrics=tf.metrics.BinaryAccuracy(threshold=0.0))"
      ],
      "metadata": {
        "id": "Tiw714mHotrm"
      },
      "execution_count": null,
      "outputs": []
    },
    {
      "cell_type": "code",
      "source": [
        "epochs = 10\n",
        "history_CNNi = CNNi.fit(\n",
        "    train_ds,\n",
        "    validation_data=val_ds,\n",
        "    epochs=epochs)"
      ],
      "metadata": {
        "colab": {
          "base_uri": "https://localhost:8080/"
        },
        "id": "I6HYZjpIo7e0",
        "outputId": "1b4c2bf8-3673-4be9-e9ee-5dea86fe8a34"
      },
      "execution_count": null,
      "outputs": [
        {
          "output_type": "stream",
          "name": "stdout",
          "text": [
            "Epoch 1/10\n",
            "625/625 [==============================] - 9s 5ms/step - loss: 0.5729 - binary_accuracy: 0.7089 - val_loss: 0.3899 - val_binary_accuracy: 0.8574\n",
            "Epoch 2/10\n",
            "625/625 [==============================] - 3s 5ms/step - loss: 0.3618 - binary_accuracy: 0.8517 - val_loss: 0.3134 - val_binary_accuracy: 0.8794\n",
            "Epoch 3/10\n",
            "625/625 [==============================] - 3s 4ms/step - loss: 0.2965 - binary_accuracy: 0.8819 - val_loss: 0.2885 - val_binary_accuracy: 0.8844\n",
            "Epoch 4/10\n",
            "625/625 [==============================] - 3s 5ms/step - loss: 0.2648 - binary_accuracy: 0.8962 - val_loss: 0.2807 - val_binary_accuracy: 0.8862\n",
            "Epoch 5/10\n",
            "625/625 [==============================] - 3s 5ms/step - loss: 0.2390 - binary_accuracy: 0.9068 - val_loss: 0.2779 - val_binary_accuracy: 0.8878\n",
            "Epoch 6/10\n",
            "625/625 [==============================] - 3s 5ms/step - loss: 0.2158 - binary_accuracy: 0.9168 - val_loss: 0.2772 - val_binary_accuracy: 0.8898\n",
            "Epoch 7/10\n",
            "625/625 [==============================] - 3s 5ms/step - loss: 0.1987 - binary_accuracy: 0.9244 - val_loss: 0.2778 - val_binary_accuracy: 0.8888\n",
            "Epoch 8/10\n",
            "625/625 [==============================] - 3s 5ms/step - loss: 0.1826 - binary_accuracy: 0.9300 - val_loss: 0.2832 - val_binary_accuracy: 0.8874\n",
            "Epoch 9/10\n",
            "625/625 [==============================] - 3s 5ms/step - loss: 0.1704 - binary_accuracy: 0.9351 - val_loss: 0.2897 - val_binary_accuracy: 0.8870\n",
            "Epoch 10/10\n",
            "625/625 [==============================] - 3s 5ms/step - loss: 0.1577 - binary_accuracy: 0.9429 - val_loss: 0.2999 - val_binary_accuracy: 0.8842\n"
          ]
        }
      ]
    },
    {
      "cell_type": "code",
      "source": [
        "epochs = 10\n",
        "history_CNNii = CNNii.fit(\n",
        "    train_ds,\n",
        "    validation_data=val_ds,\n",
        "    epochs=epochs)"
      ],
      "metadata": {
        "colab": {
          "base_uri": "https://localhost:8080/"
        },
        "id": "sahif906o7jt",
        "outputId": "1e9c33a8-314a-439b-ce53-41bd388c73b2"
      },
      "execution_count": null,
      "outputs": [
        {
          "output_type": "stream",
          "name": "stdout",
          "text": [
            "Epoch 1/10\n",
            "625/625 [==============================] - 4s 5ms/step - loss: 0.6263 - binary_accuracy: 0.6350 - val_loss: 0.4784 - val_binary_accuracy: 0.8524\n",
            "Epoch 2/10\n",
            "625/625 [==============================] - 3s 5ms/step - loss: 0.4828 - binary_accuracy: 0.7633 - val_loss: 0.3862 - val_binary_accuracy: 0.8758\n",
            "Epoch 3/10\n",
            "625/625 [==============================] - 3s 5ms/step - loss: 0.4334 - binary_accuracy: 0.8000 - val_loss: 0.3536 - val_binary_accuracy: 0.8778\n",
            "Epoch 4/10\n",
            "625/625 [==============================] - 3s 5ms/step - loss: 0.3976 - binary_accuracy: 0.8208 - val_loss: 0.3299 - val_binary_accuracy: 0.8770\n",
            "Epoch 5/10\n",
            "625/625 [==============================] - 3s 5ms/step - loss: 0.3753 - binary_accuracy: 0.8324 - val_loss: 0.3157 - val_binary_accuracy: 0.8778\n",
            "Epoch 6/10\n",
            "625/625 [==============================] - 3s 5ms/step - loss: 0.3655 - binary_accuracy: 0.8378 - val_loss: 0.3094 - val_binary_accuracy: 0.8782\n",
            "Epoch 7/10\n",
            "625/625 [==============================] - 3s 5ms/step - loss: 0.3503 - binary_accuracy: 0.8464 - val_loss: 0.3074 - val_binary_accuracy: 0.8776\n",
            "Epoch 8/10\n",
            "625/625 [==============================] - 3s 5ms/step - loss: 0.3419 - binary_accuracy: 0.8529 - val_loss: 0.3048 - val_binary_accuracy: 0.8790\n",
            "Epoch 9/10\n",
            "625/625 [==============================] - 3s 5ms/step - loss: 0.3267 - binary_accuracy: 0.8583 - val_loss: 0.3008 - val_binary_accuracy: 0.8746\n",
            "Epoch 10/10\n",
            "625/625 [==============================] - 3s 5ms/step - loss: 0.3259 - binary_accuracy: 0.8634 - val_loss: 0.3033 - val_binary_accuracy: 0.8734\n"
          ]
        }
      ]
    },
    {
      "cell_type": "code",
      "source": [
        "epochs = 10\n",
        "history_CNNiii = CNNiii.fit(\n",
        "    train_ds,\n",
        "    validation_data=val_ds,\n",
        "    epochs=epochs)"
      ],
      "metadata": {
        "colab": {
          "base_uri": "https://localhost:8080/"
        },
        "id": "OqJqiBINo7xl",
        "outputId": "05a22c82-1f56-4b61-bbed-555c1da96006"
      },
      "execution_count": null,
      "outputs": [
        {
          "output_type": "stream",
          "name": "stdout",
          "text": [
            "Epoch 1/10\n",
            "625/625 [==============================] - 4s 5ms/step - loss: 0.6025 - binary_accuracy: 0.6748 - val_loss: 0.4219 - val_binary_accuracy: 0.8444\n",
            "Epoch 2/10\n",
            "625/625 [==============================] - 3s 5ms/step - loss: 0.3912 - binary_accuracy: 0.8375 - val_loss: 0.3298 - val_binary_accuracy: 0.8746\n",
            "Epoch 3/10\n",
            "625/625 [==============================] - 3s 5ms/step - loss: 0.3247 - binary_accuracy: 0.8654 - val_loss: 0.3008 - val_binary_accuracy: 0.8788\n",
            "Epoch 4/10\n",
            "625/625 [==============================] - 3s 5ms/step - loss: 0.2968 - binary_accuracy: 0.8831 - val_loss: 0.2898 - val_binary_accuracy: 0.8806\n",
            "Epoch 5/10\n",
            "625/625 [==============================] - 3s 4ms/step - loss: 0.2740 - binary_accuracy: 0.8917 - val_loss: 0.2811 - val_binary_accuracy: 0.8862\n",
            "Epoch 6/10\n",
            "625/625 [==============================] - 3s 5ms/step - loss: 0.2596 - binary_accuracy: 0.8951 - val_loss: 0.2785 - val_binary_accuracy: 0.8852\n",
            "Epoch 7/10\n",
            "625/625 [==============================] - 3s 5ms/step - loss: 0.2476 - binary_accuracy: 0.9012 - val_loss: 0.2806 - val_binary_accuracy: 0.8872\n",
            "Epoch 8/10\n",
            "625/625 [==============================] - 3s 5ms/step - loss: 0.2365 - binary_accuracy: 0.9092 - val_loss: 0.2795 - val_binary_accuracy: 0.8872\n",
            "Epoch 9/10\n",
            "625/625 [==============================] - 3s 5ms/step - loss: 0.2190 - binary_accuracy: 0.9139 - val_loss: 0.2822 - val_binary_accuracy: 0.8870\n",
            "Epoch 10/10\n",
            "625/625 [==============================] - 3s 5ms/step - loss: 0.2160 - binary_accuracy: 0.9172 - val_loss: 0.2826 - val_binary_accuracy: 0.8856\n"
          ]
        }
      ]
    },
    {
      "cell_type": "code",
      "source": [
        "epochs = 10\n",
        "history_CNNiv = CNNiv.fit(\n",
        "    train_ds,\n",
        "    validation_data=val_ds,\n",
        "    epochs=epochs)"
      ],
      "metadata": {
        "colab": {
          "base_uri": "https://localhost:8080/"
        },
        "id": "ruIe3dBAo780",
        "outputId": "bf6a7eec-d0a6-4dd2-8ec1-2cf03d9eb7ae"
      },
      "execution_count": null,
      "outputs": [
        {
          "output_type": "stream",
          "name": "stdout",
          "text": [
            "Epoch 1/10\n",
            "625/625 [==============================] - 4s 5ms/step - loss: 0.6493 - binary_accuracy: 0.6047 - val_loss: 0.5149 - val_binary_accuracy: 0.8400\n",
            "Epoch 2/10\n",
            "625/625 [==============================] - 3s 5ms/step - loss: 0.5092 - binary_accuracy: 0.7433 - val_loss: 0.4054 - val_binary_accuracy: 0.8718\n",
            "Epoch 3/10\n",
            "625/625 [==============================] - 3s 5ms/step - loss: 0.4589 - binary_accuracy: 0.7699 - val_loss: 0.3644 - val_binary_accuracy: 0.8822\n",
            "Epoch 4/10\n",
            "625/625 [==============================] - 3s 5ms/step - loss: 0.4267 - binary_accuracy: 0.7871 - val_loss: 0.3447 - val_binary_accuracy: 0.8834\n",
            "Epoch 5/10\n",
            "625/625 [==============================] - 3s 5ms/step - loss: 0.4052 - binary_accuracy: 0.7984 - val_loss: 0.3309 - val_binary_accuracy: 0.8806\n",
            "Epoch 6/10\n",
            "625/625 [==============================] - 4s 7ms/step - loss: 0.3962 - binary_accuracy: 0.8037 - val_loss: 0.3276 - val_binary_accuracy: 0.8800\n",
            "Epoch 7/10\n",
            "625/625 [==============================] - 3s 5ms/step - loss: 0.3884 - binary_accuracy: 0.8029 - val_loss: 0.3232 - val_binary_accuracy: 0.8810\n",
            "Epoch 8/10\n",
            "625/625 [==============================] - 3s 5ms/step - loss: 0.3798 - binary_accuracy: 0.8085 - val_loss: 0.3169 - val_binary_accuracy: 0.8838\n",
            "Epoch 9/10\n",
            "625/625 [==============================] - 3s 5ms/step - loss: 0.3769 - binary_accuracy: 0.8110 - val_loss: 0.3156 - val_binary_accuracy: 0.8814\n",
            "Epoch 10/10\n",
            "625/625 [==============================] - 3s 5ms/step - loss: 0.3675 - binary_accuracy: 0.8170 - val_loss: 0.3142 - val_binary_accuracy: 0.8796\n"
          ]
        }
      ]
    },
    {
      "cell_type": "code",
      "source": [
        "loss, accuracy = CNNi.evaluate(test_ds)\n",
        "\n",
        "print(\"Loss: \", loss)\n",
        "print(\"Accuracy: \", accuracy)"
      ],
      "metadata": {
        "colab": {
          "base_uri": "https://localhost:8080/"
        },
        "id": "l6-n7WRdsFF5",
        "outputId": "12ce7dc7-800c-4799-f8bf-59db03e1813d"
      },
      "execution_count": null,
      "outputs": [
        {
          "output_type": "stream",
          "name": "stdout",
          "text": [
            "782/782 [==============================] - 2s 2ms/step - loss: 0.3463 - binary_accuracy: 0.8647\n",
            "Loss:  0.3463098704814911\n",
            "Accuracy:  0.8646799921989441\n"
          ]
        }
      ]
    },
    {
      "cell_type": "code",
      "source": [
        "loss, accuracy = CNNii.evaluate(test_ds)\n",
        "\n",
        "print(\"Loss: \", loss)\n",
        "print(\"Accuracy: \", accuracy)"
      ],
      "metadata": {
        "colab": {
          "base_uri": "https://localhost:8080/"
        },
        "id": "h3SJIhszsFKK",
        "outputId": "db60a619-ac48-4772-c05c-de823cb75746"
      },
      "execution_count": null,
      "outputs": [
        {
          "output_type": "stream",
          "name": "stdout",
          "text": [
            "782/782 [==============================] - 2s 2ms/step - loss: 0.3361 - binary_accuracy: 0.8609\n",
            "Loss:  0.33607274293899536\n",
            "Accuracy:  0.8609200119972229\n"
          ]
        }
      ]
    },
    {
      "cell_type": "code",
      "source": [
        "loss, accuracy = CNNiii.evaluate(test_ds)\n",
        "\n",
        "print(\"Loss: \", loss)\n",
        "print(\"Accuracy: \", accuracy)"
      ],
      "metadata": {
        "colab": {
          "base_uri": "https://localhost:8080/"
        },
        "id": "3jakdi3-sFO3",
        "outputId": "b771b19b-5928-46f5-84a5-4cad33e538c3"
      },
      "execution_count": null,
      "outputs": [
        {
          "output_type": "stream",
          "name": "stdout",
          "text": [
            "782/782 [==============================] - 2s 2ms/step - loss: 0.3158 - binary_accuracy: 0.8695\n",
            "Loss:  0.3157704770565033\n",
            "Accuracy:  0.8694800138473511\n"
          ]
        }
      ]
    },
    {
      "cell_type": "code",
      "source": [
        "loss, accuracy = CNNiv.evaluate(test_ds)\n",
        "\n",
        "print(\"Loss: \", loss)\n",
        "print(\"Accuracy: \", accuracy)"
      ],
      "metadata": {
        "colab": {
          "base_uri": "https://localhost:8080/"
        },
        "id": "9YdxI2QrslYI",
        "outputId": "69b21ff2-d223-43d9-e517-5d2fb9396c2a"
      },
      "execution_count": null,
      "outputs": [
        {
          "output_type": "stream",
          "name": "stdout",
          "text": [
            "782/782 [==============================] - 2s 2ms/step - loss: 0.3436 - binary_accuracy: 0.8686\n",
            "Loss:  0.3436060845851898\n",
            "Accuracy:  0.8686000108718872\n"
          ]
        }
      ]
    },
    {
      "cell_type": "markdown",
      "source": [
        "At the first epoch all CNNi and CNNii model has 0.85 accuracy, while CNNiii and CNNiv accuracy is 0.84. At the last epoch, CNNi and CNNiii accuracy is 0.88 when accuracy of CNNii and CNNiv is only 0.87. But if we check carefully CNNiii has accuracy higher than CNNi => The best of CNN model is CNNiii"
      ],
      "metadata": {
        "id": "b03ANgMtno1O"
      }
    },
    {
      "cell_type": "code",
      "source": [
        "DenseNN = tf.keras.Sequential([\n",
        "  layers.Embedding(max_features + 1, embedding_dim),\n",
        "  layers.Dense(220),\n",
        "  layers.Dropout(0.2),\n",
        "  layers.GlobalAveragePooling1D(),\n",
        "  layers.Dropout(0.2),\n",
        "  layers.Dense(1)])\n",
        "\n",
        "DenseNN.compile(loss=losses.BinaryCrossentropy(from_logits=True),\n",
        "              optimizer='adam',\n",
        "              metrics=tf.metrics.BinaryAccuracy(threshold=0.0))\n",
        "\n",
        "epochs = 10\n",
        "history_DenseNN = DenseNN.fit(\n",
        "    train_ds,\n",
        "    validation_data=val_ds,\n",
        "    epochs=epochs)"
      ],
      "metadata": {
        "colab": {
          "base_uri": "https://localhost:8080/"
        },
        "id": "-4Z9jwkbsruS",
        "outputId": "6c71e80a-6a14-4f00-994c-874cf1024236"
      },
      "execution_count": null,
      "outputs": [
        {
          "output_type": "stream",
          "name": "stdout",
          "text": [
            "Epoch 1/10\n",
            "625/625 [==============================] - 4s 5ms/step - loss: 0.4536 - binary_accuracy: 0.7726 - val_loss: 0.3090 - val_binary_accuracy: 0.8734\n",
            "Epoch 2/10\n",
            "625/625 [==============================] - 3s 5ms/step - loss: 0.2430 - binary_accuracy: 0.9046 - val_loss: 0.3047 - val_binary_accuracy: 0.8748\n",
            "Epoch 3/10\n",
            "625/625 [==============================] - 3s 5ms/step - loss: 0.1845 - binary_accuracy: 0.9311 - val_loss: 0.3341 - val_binary_accuracy: 0.8670\n",
            "Epoch 4/10\n",
            "625/625 [==============================] - 3s 5ms/step - loss: 0.1435 - binary_accuracy: 0.9488 - val_loss: 0.3844 - val_binary_accuracy: 0.8644\n",
            "Epoch 5/10\n",
            "625/625 [==============================] - 3s 5ms/step - loss: 0.1118 - binary_accuracy: 0.9624 - val_loss: 0.4474 - val_binary_accuracy: 0.8662\n",
            "Epoch 6/10\n",
            "625/625 [==============================] - 3s 5ms/step - loss: 0.0877 - binary_accuracy: 0.9721 - val_loss: 0.5318 - val_binary_accuracy: 0.8650\n",
            "Epoch 7/10\n",
            "625/625 [==============================] - 3s 5ms/step - loss: 0.0702 - binary_accuracy: 0.9790 - val_loss: 0.6328 - val_binary_accuracy: 0.8596\n",
            "Epoch 8/10\n",
            "625/625 [==============================] - 3s 5ms/step - loss: 0.0626 - binary_accuracy: 0.9812 - val_loss: 0.7405 - val_binary_accuracy: 0.8548\n",
            "Epoch 9/10\n",
            "625/625 [==============================] - 3s 5ms/step - loss: 0.0771 - binary_accuracy: 0.9707 - val_loss: 0.9080 - val_binary_accuracy: 0.8324\n",
            "Epoch 10/10\n",
            "625/625 [==============================] - 3s 5ms/step - loss: 0.0915 - binary_accuracy: 0.9641 - val_loss: 0.6978 - val_binary_accuracy: 0.8564\n"
          ]
        }
      ]
    },
    {
      "cell_type": "code",
      "source": [
        "CNN = tf.keras.Sequential([\n",
        "  layers.Embedding(max_features + 1, embedding_dim),\n",
        "  layers.Dropout(0.6),\n",
        "  layers.Conv1D(8, 7, padding=\"valid\", activation=\"relu\", strides=3),\n",
        "  layers.GlobalAveragePooling1D(),\n",
        "  layers.Dropout(0.2),\n",
        "  layers.Dense(1)\n",
        "  ])\n",
        "\n",
        "CNN.compile(loss=losses.BinaryCrossentropy(from_logits=True),\n",
        "              optimizer='adam',\n",
        "              metrics=tf.metrics.BinaryAccuracy(threshold=0.0))\n",
        "\n",
        "\n",
        "epochs = 10\n",
        "history_CNN = CNN.fit(\n",
        "    train_ds,\n",
        "    validation_data=val_ds,\n",
        "    epochs=epochs)"
      ],
      "metadata": {
        "colab": {
          "base_uri": "https://localhost:8080/"
        },
        "id": "FB0lT9_3sr17",
        "outputId": "e376a86e-5a7c-43de-f570-1e8d16d20ba5"
      },
      "execution_count": null,
      "outputs": [
        {
          "output_type": "stream",
          "name": "stdout",
          "text": [
            "Epoch 1/10\n",
            "625/625 [==============================] - 4s 5ms/step - loss: 0.6079 - binary_accuracy: 0.6672 - val_loss: 0.4346 - val_binary_accuracy: 0.8400\n",
            "Epoch 2/10\n",
            "625/625 [==============================] - 3s 5ms/step - loss: 0.4054 - binary_accuracy: 0.8268 - val_loss: 0.3411 - val_binary_accuracy: 0.8702\n",
            "Epoch 3/10\n",
            "625/625 [==============================] - 3s 5ms/step - loss: 0.3401 - binary_accuracy: 0.8593 - val_loss: 0.3068 - val_binary_accuracy: 0.8818\n",
            "Epoch 4/10\n",
            "625/625 [==============================] - 3s 5ms/step - loss: 0.3083 - binary_accuracy: 0.8744 - val_loss: 0.2928 - val_binary_accuracy: 0.8834\n",
            "Epoch 5/10\n",
            "625/625 [==============================] - 3s 5ms/step - loss: 0.2878 - binary_accuracy: 0.8832 - val_loss: 0.2852 - val_binary_accuracy: 0.8852\n",
            "Epoch 6/10\n",
            "625/625 [==============================] - 3s 5ms/step - loss: 0.2665 - binary_accuracy: 0.8917 - val_loss: 0.2792 - val_binary_accuracy: 0.8838\n",
            "Epoch 7/10\n",
            "625/625 [==============================] - 3s 5ms/step - loss: 0.2528 - binary_accuracy: 0.8990 - val_loss: 0.2781 - val_binary_accuracy: 0.8838\n",
            "Epoch 8/10\n",
            "625/625 [==============================] - 3s 5ms/step - loss: 0.2407 - binary_accuracy: 0.9024 - val_loss: 0.2781 - val_binary_accuracy: 0.8838\n",
            "Epoch 9/10\n",
            "625/625 [==============================] - 3s 5ms/step - loss: 0.2283 - binary_accuracy: 0.9103 - val_loss: 0.2797 - val_binary_accuracy: 0.8860\n",
            "Epoch 10/10\n",
            "625/625 [==============================] - 3s 5ms/step - loss: 0.2216 - binary_accuracy: 0.9112 - val_loss: 0.2822 - val_binary_accuracy: 0.8846\n"
          ]
        }
      ]
    },
    {
      "cell_type": "code",
      "source": [
        "loss, accuracy = OrigNN.evaluate(test_ds)\n",
        "\n",
        "print(\"Loss: \", loss)\n",
        "print(\"Accuracy: \", accuracy)"
      ],
      "metadata": {
        "colab": {
          "base_uri": "https://localhost:8080/"
        },
        "id": "luj7aNkevTCh",
        "outputId": "499fe663-f0d4-4540-d169-a70fcfd4648f"
      },
      "execution_count": null,
      "outputs": [
        {
          "output_type": "stream",
          "name": "stdout",
          "text": [
            "782/782 [==============================] - 2s 2ms/step - loss: 0.3101 - binary_accuracy: 0.8735\n",
            "Loss:  0.310106486082077\n",
            "Accuracy:  0.873520016670227\n"
          ]
        }
      ]
    },
    {
      "cell_type": "code",
      "source": [
        "loss, accuracy = DenseNN.evaluate(test_ds)\n",
        "\n",
        "print(\"Loss: \", loss)\n",
        "print(\"Accuracy: \", accuracy)"
      ],
      "metadata": {
        "colab": {
          "base_uri": "https://localhost:8080/"
        },
        "id": "7uvSoAOZvUAE",
        "outputId": "d938b918-1f80-4bef-f548-64e417cdbc14"
      },
      "execution_count": null,
      "outputs": [
        {
          "output_type": "stream",
          "name": "stdout",
          "text": [
            "782/782 [==============================] - 2s 3ms/step - loss: 0.8471 - binary_accuracy: 0.8346\n",
            "Loss:  0.8471241593360901\n",
            "Accuracy:  0.8346400260925293\n"
          ]
        }
      ]
    },
    {
      "cell_type": "code",
      "source": [
        "loss, accuracy = CNN.evaluate(test_ds)\n",
        "\n",
        "print(\"Loss: \", loss)\n",
        "print(\"Accuracy: \", accuracy)"
      ],
      "metadata": {
        "colab": {
          "base_uri": "https://localhost:8080/"
        },
        "id": "K8UeEq6QvULh",
        "outputId": "39cc2bad-d061-49d1-9d87-d9055b86cea1"
      },
      "execution_count": null,
      "outputs": [
        {
          "output_type": "stream",
          "name": "stdout",
          "text": [
            "782/782 [==============================] - 2s 2ms/step - loss: 0.3192 - binary_accuracy: 0.8668\n",
            "Loss:  0.31918179988861084\n",
            "Accuracy:  0.8667600154876709\n"
          ]
        }
      ]
    },
    {
      "cell_type": "markdown",
      "source": [
        "# Task 4"
      ],
      "metadata": {
        "id": "K8QrjUaQ1bKS"
      }
    },
    {
      "cell_type": "code",
      "source": [
        "NNBest = tf.keras.Sequential([\n",
        "  layers.Embedding(max_features + 1, embedding_dim),\n",
        "  layers.Dropout(0.2),\n",
        "  layers.GlobalAveragePooling1D(),\n",
        "  layers.Dropout(0.2),\n",
        "  layers.Dense(1)])"
      ],
      "metadata": {
        "id": "FH-Lpnb2v2mO"
      },
      "execution_count": null,
      "outputs": []
    },
    {
      "cell_type": "code",
      "source": [
        "raw_train_ds = tf.keras.utils.text_dataset_from_directory(\n",
        "    'aclImdb/train', \n",
        "    batch_size=batch_size, \n",
        "    validation_split=0.84, \n",
        "    subset='training',\n",
        "    seed=seed)\n",
        "\n",
        "raw_val_ds = tf.keras.utils.text_dataset_from_directory(\n",
        "    'aclImdb/train', \n",
        "    batch_size=batch_size, \n",
        "    validation_split=0.2, \n",
        "    subset='validation', \n",
        "    seed=seed)\n",
        "\n",
        "\n",
        "raw_test_ds = tf.keras.utils.text_dataset_from_directory(\n",
        "    'aclImdb/test', \n",
        "    batch_size=batch_size)\n",
        "\n",
        "max_features = 10000\n",
        "sequence_length = 250\n",
        "\n",
        "vectorize_layer = layers.TextVectorization(\n",
        "    standardize=custom_standardization,\n",
        "    max_tokens=max_features,\n",
        "    output_mode='int',\n",
        "    output_sequence_length=sequence_length)\n",
        "\n",
        "train_text = raw_train_ds.map(lambda x, y: x)\n",
        "vectorize_layer.adapt(train_text)\n",
        "\n",
        "train_ds = raw_train_ds.map(vectorize_text)\n",
        "val_ds = raw_val_ds.map(vectorize_text)\n",
        "test_ds = raw_test_ds.map(vectorize_text)\n",
        "\n",
        "AUTOTUNE = tf.data.AUTOTUNE\n",
        "\n",
        "train_ds = train_ds.cache().prefetch(buffer_size=AUTOTUNE)\n",
        "val_ds = val_ds.cache().prefetch(buffer_size=AUTOTUNE)\n",
        "test_ds = test_ds.cache().prefetch(buffer_size=AUTOTUNE)"
      ],
      "metadata": {
        "colab": {
          "base_uri": "https://localhost:8080/"
        },
        "id": "0GYCWgYL1pbI",
        "outputId": "cb835a9d-6902-4d7a-f49e-f40d99450acf"
      },
      "execution_count": null,
      "outputs": [
        {
          "output_type": "stream",
          "name": "stdout",
          "text": [
            "Found 25000 files belonging to 2 classes.\n",
            "Using 4000 files for training.\n",
            "Found 25000 files belonging to 2 classes.\n",
            "Using 5000 files for validation.\n",
            "Found 25000 files belonging to 2 classes.\n"
          ]
        }
      ]
    },
    {
      "cell_type": "code",
      "source": [
        "NNBest.compile(loss=losses.BinaryCrossentropy(from_logits=True),\n",
        "              optimizer='adam',\n",
        "              metrics=tf.metrics.BinaryAccuracy(threshold=0.0))\n",
        "\n",
        "epochs = 10\n",
        "history_NNBest_20 = NNBest.fit(\n",
        "    train_ds,\n",
        "    validation_data=val_ds,\n",
        "    epochs=epochs)"
      ],
      "metadata": {
        "colab": {
          "base_uri": "https://localhost:8080/"
        },
        "id": "HgcaJmRdwNZe",
        "outputId": "2c5ae581-1015-4fb7-9bb3-62db1e609ea8"
      },
      "execution_count": null,
      "outputs": [
        {
          "output_type": "stream",
          "name": "stdout",
          "text": [
            "Epoch 1/10\n",
            "125/125 [==============================] - 6s 32ms/step - loss: 0.6906 - binary_accuracy: 0.5487 - val_loss: 0.6869 - val_binary_accuracy: 0.7136\n",
            "Epoch 2/10\n",
            "125/125 [==============================] - 1s 6ms/step - loss: 0.6803 - binary_accuracy: 0.7042 - val_loss: 0.6755 - val_binary_accuracy: 0.7460\n",
            "Epoch 3/10\n",
            "125/125 [==============================] - 1s 6ms/step - loss: 0.6626 - binary_accuracy: 0.7632 - val_loss: 0.6575 - val_binary_accuracy: 0.7586\n",
            "Epoch 4/10\n",
            "125/125 [==============================] - 1s 9ms/step - loss: 0.6377 - binary_accuracy: 0.7870 - val_loss: 0.6348 - val_binary_accuracy: 0.7634\n",
            "Epoch 5/10\n",
            "125/125 [==============================] - 2s 12ms/step - loss: 0.6077 - binary_accuracy: 0.8012 - val_loss: 0.6098 - val_binary_accuracy: 0.7806\n",
            "Epoch 6/10\n",
            "125/125 [==============================] - 1s 9ms/step - loss: 0.5747 - binary_accuracy: 0.8202 - val_loss: 0.5842 - val_binary_accuracy: 0.7882\n",
            "Epoch 7/10\n",
            "125/125 [==============================] - 1s 10ms/step - loss: 0.5430 - binary_accuracy: 0.8393 - val_loss: 0.5594 - val_binary_accuracy: 0.7986\n",
            "Epoch 8/10\n",
            "125/125 [==============================] - 1s 10ms/step - loss: 0.5110 - binary_accuracy: 0.8503 - val_loss: 0.5360 - val_binary_accuracy: 0.8072\n",
            "Epoch 9/10\n",
            "125/125 [==============================] - 1s 10ms/step - loss: 0.4804 - binary_accuracy: 0.8635 - val_loss: 0.5143 - val_binary_accuracy: 0.8134\n",
            "Epoch 10/10\n",
            "125/125 [==============================] - 1s 9ms/step - loss: 0.4531 - binary_accuracy: 0.8715 - val_loss: 0.4945 - val_binary_accuracy: 0.8196\n"
          ]
        }
      ]
    },
    {
      "cell_type": "code",
      "source": [
        "history_dict = history_NNBest_20.history\n",
        "history_dict.keys()\n",
        "acc = history_dict['binary_accuracy']\n",
        "val_acc = history_dict['val_binary_accuracy']\n",
        "loss = history_dict['loss']\n",
        "val_loss = history_dict['val_loss']\n",
        "\n",
        "epochs = range(1, len(acc) + 1)\n",
        "\n",
        "plt.plot(epochs, acc, 'bo', label='Training acc')\n",
        "plt.plot(epochs, val_acc, 'b', label='Validation acc')\n",
        "plt.title('Training and validation accuracy')\n",
        "plt.xlabel('Epochs')\n",
        "plt.ylabel('Accuracy')\n",
        "plt.legend(loc='lower right')\n",
        "\n",
        "plt.show()"
      ],
      "metadata": {
        "colab": {
          "base_uri": "https://localhost:8080/",
          "height": 295
        },
        "id": "s1mhy2Kh7JH8",
        "outputId": "78d63f17-af15-4e92-8f8c-66ade464b982"
      },
      "execution_count": null,
      "outputs": [
        {
          "output_type": "display_data",
          "data": {
            "text/plain": [
              "<Figure size 432x288 with 1 Axes>"
            ],
            "image/png": "[encoded data removed]"
          },
          "metadata": {
            "needs_background": "light"
          }
        }
      ]
    },
    {
      "cell_type": "code",
      "source": [
        "raw_train_ds = tf.keras.utils.text_dataset_from_directory(\n",
        "    'aclImdb/train', \n",
        "    batch_size=batch_size, \n",
        "    validation_split=0.68, \n",
        "    subset='training',\n",
        "    seed=seed)\n",
        "\n",
        "raw_val_ds = tf.keras.utils.text_dataset_from_directory(\n",
        "    'aclImdb/train', \n",
        "    batch_size=batch_size, \n",
        "    validation_split=0.2, \n",
        "    subset='validation', \n",
        "    seed=seed)\n",
        "\n",
        "\n",
        "raw_test_ds = tf.keras.utils.text_dataset_from_directory(\n",
        "    'aclImdb/test', \n",
        "    batch_size=batch_size)\n",
        "\n",
        "max_features = 10000\n",
        "sequence_length = 250\n",
        "\n",
        "vectorize_layer = layers.TextVectorization(\n",
        "    standardize=custom_standardization,\n",
        "    max_tokens=max_features,\n",
        "    output_mode='int',\n",
        "    output_sequence_length=sequence_length)\n",
        "\n",
        "train_text = raw_train_ds.map(lambda x, y: x)\n",
        "vectorize_layer.adapt(train_text)\n",
        "\n",
        "train_ds = raw_train_ds.map(vectorize_text)\n",
        "val_ds = raw_val_ds.map(vectorize_text)\n",
        "test_ds = raw_test_ds.map(vectorize_text)\n",
        "\n",
        "AUTOTUNE = tf.data.AUTOTUNE\n",
        "\n",
        "train_ds = train_ds.cache().prefetch(buffer_size=AUTOTUNE)\n",
        "val_ds = val_ds.cache().prefetch(buffer_size=AUTOTUNE)\n",
        "test_ds = test_ds.cache().prefetch(buffer_size=AUTOTUNE)"
      ],
      "metadata": {
        "colab": {
          "base_uri": "https://localhost:8080/"
        },
        "id": "y_CzTrGe6-Zm",
        "outputId": "dc935446-466f-4229-a906-cf3547d023e1"
      },
      "execution_count": null,
      "outputs": [
        {
          "output_type": "stream",
          "name": "stdout",
          "text": [
            "Found 25000 files belonging to 2 classes.\n",
            "Using 8000 files for training.\n",
            "Found 25000 files belonging to 2 classes.\n",
            "Using 5000 files for validation.\n",
            "Found 25000 files belonging to 2 classes.\n"
          ]
        }
      ]
    },
    {
      "cell_type": "code",
      "source": [
        "NNBest.compile(loss=losses.BinaryCrossentropy(from_logits=True),\n",
        "              optimizer='adam',\n",
        "              metrics=tf.metrics.BinaryAccuracy(threshold=0.0))\n",
        "\n",
        "epochs = 10\n",
        "history_NNBest_40 = NNBest.fit(\n",
        "    train_ds,\n",
        "    validation_data=val_ds,\n",
        "    epochs=epochs)"
      ],
      "metadata": {
        "colab": {
          "base_uri": "https://localhost:8080/"
        },
        "id": "psfJQmIkz0jY",
        "outputId": "d46ef6a9-555f-48aa-c057-6287160dd28e"
      },
      "execution_count": null,
      "outputs": [
        {
          "output_type": "stream",
          "name": "stdout",
          "text": [
            "Epoch 1/10\n",
            "250/250 [==============================] - 5s 17ms/step - loss: 0.6523 - binary_accuracy: 0.6245 - val_loss: 0.6311 - val_binary_accuracy: 0.6690\n",
            "Epoch 2/10\n",
            "250/250 [==============================] - 2s 7ms/step - loss: 0.6052 - binary_accuracy: 0.6989 - val_loss: 0.5915 - val_binary_accuracy: 0.7108\n",
            "Epoch 3/10\n",
            "250/250 [==============================] - 2s 6ms/step - loss: 0.5581 - binary_accuracy: 0.7451 - val_loss: 0.5535 - val_binary_accuracy: 0.7444\n",
            "Epoch 4/10\n",
            "250/250 [==============================] - 2s 8ms/step - loss: 0.5155 - binary_accuracy: 0.7795 - val_loss: 0.5194 - val_binary_accuracy: 0.7678\n",
            "Epoch 5/10\n",
            "250/250 [==============================] - 2s 7ms/step - loss: 0.4753 - binary_accuracy: 0.8062 - val_loss: 0.4890 - val_binary_accuracy: 0.7868\n",
            "Epoch 6/10\n",
            "250/250 [==============================] - 2s 8ms/step - loss: 0.4381 - binary_accuracy: 0.8273 - val_loss: 0.4630 - val_binary_accuracy: 0.7984\n",
            "Epoch 7/10\n",
            "250/250 [==============================] - 2s 8ms/step - loss: 0.4062 - binary_accuracy: 0.8432 - val_loss: 0.4410 - val_binary_accuracy: 0.8108\n",
            "Epoch 8/10\n",
            "250/250 [==============================] - 2s 7ms/step - loss: 0.3783 - binary_accuracy: 0.8597 - val_loss: 0.4228 - val_binary_accuracy: 0.8178\n",
            "Epoch 9/10\n",
            "250/250 [==============================] - 2s 7ms/step - loss: 0.3531 - binary_accuracy: 0.8705 - val_loss: 0.4072 - val_binary_accuracy: 0.8274\n",
            "Epoch 10/10\n",
            "250/250 [==============================] - 2s 8ms/step - loss: 0.3316 - binary_accuracy: 0.8824 - val_loss: 0.3939 - val_binary_accuracy: 0.8364\n"
          ]
        }
      ]
    },
    {
      "cell_type": "code",
      "source": [
        "history_dict = history_NNBest_40.history\n",
        "history_dict.keys()\n",
        "acc = history_dict['binary_accuracy']\n",
        "val_acc = history_dict['val_binary_accuracy']\n",
        "loss = history_dict['loss']\n",
        "val_loss = history_dict['val_loss']\n",
        "\n",
        "epochs = range(1, len(acc) + 1)\n",
        "\n",
        "plt.plot(epochs, acc, 'bo', label='Training acc')\n",
        "plt.plot(epochs, val_acc, 'b', label='Validation acc')\n",
        "plt.title('Training and validation accuracy')\n",
        "plt.xlabel('Epochs')\n",
        "plt.ylabel('Accuracy')\n",
        "plt.legend(loc='lower right')\n",
        "\n",
        "plt.show()"
      ],
      "metadata": {
        "colab": {
          "base_uri": "https://localhost:8080/",
          "height": 295
        },
        "id": "URKvPvT57aY0",
        "outputId": "4c8d0859-5f9e-41fa-ad5a-b07c8e049a3a"
      },
      "execution_count": null,
      "outputs": [
        {
          "output_type": "display_data",
          "data": {
            "text/plain": [
              "<Figure size 432x288 with 1 Axes>"
            ],
            "image/png": "[encoded data removed]"
          },
          "metadata": {
            "needs_background": "light"
          }
        }
      ]
    },
    {
      "cell_type": "code",
      "source": [
        "raw_train_ds = tf.keras.utils.text_dataset_from_directory(\n",
        "    'aclImdb/train', \n",
        "    batch_size=batch_size, \n",
        "    validation_split=0.52, \n",
        "    subset='training',\n",
        "    seed=seed)\n",
        "\n",
        "raw_val_ds = tf.keras.utils.text_dataset_from_directory(\n",
        "    'aclImdb/train', \n",
        "    batch_size=batch_size, \n",
        "    validation_split=0.2, \n",
        "    subset='validation', \n",
        "    seed=seed)\n",
        "\n",
        "\n",
        "raw_test_ds = tf.keras.utils.text_dataset_from_directory(\n",
        "    'aclImdb/test', \n",
        "    batch_size=batch_size)\n",
        "\n",
        "max_features = 10000\n",
        "sequence_length = 250\n",
        "\n",
        "vectorize_layer = layers.TextVectorization(\n",
        "    standardize=custom_standardization,\n",
        "    max_tokens=max_features,\n",
        "    output_mode='int',\n",
        "    output_sequence_length=sequence_length)\n",
        "\n",
        "train_text = raw_train_ds.map(lambda x, y: x)\n",
        "vectorize_layer.adapt(train_text)\n",
        "\n",
        "train_ds = raw_train_ds.map(vectorize_text)\n",
        "val_ds = raw_val_ds.map(vectorize_text)\n",
        "test_ds = raw_test_ds.map(vectorize_text)\n",
        "\n",
        "AUTOTUNE = tf.data.AUTOTUNE\n",
        "\n",
        "train_ds = train_ds.cache().prefetch(buffer_size=AUTOTUNE)\n",
        "val_ds = val_ds.cache().prefetch(buffer_size=AUTOTUNE)\n",
        "test_ds = test_ds.cache().prefetch(buffer_size=AUTOTUNE)"
      ],
      "metadata": {
        "colab": {
          "base_uri": "https://localhost:8080/"
        },
        "outputId": "7c83a1f6-35eb-4dbb-e5f1-6b2e43126ea2",
        "id": "RD4J-yrG7w1y"
      },
      "execution_count": null,
      "outputs": [
        {
          "output_type": "stream",
          "name": "stdout",
          "text": [
            "Found 25000 files belonging to 2 classes.\n",
            "Using 12000 files for training.\n",
            "Found 25000 files belonging to 2 classes.\n",
            "Using 5000 files for validation.\n",
            "Found 25000 files belonging to 2 classes.\n"
          ]
        }
      ]
    },
    {
      "cell_type": "code",
      "source": [
        "NNBest.compile(loss=losses.BinaryCrossentropy(from_logits=True),\n",
        "              optimizer='adam',\n",
        "              metrics=tf.metrics.BinaryAccuracy(threshold=0.0))\n",
        "\n",
        "epochs = 10\n",
        "history_NNBest_60 = NNBest.fit(\n",
        "    train_ds,\n",
        "    validation_data=val_ds,\n",
        "    epochs=epochs)"
      ],
      "metadata": {
        "colab": {
          "base_uri": "https://localhost:8080/"
        },
        "outputId": "3d798313-39c5-448a-8536-a0dbd69f7f98",
        "id": "3py1HKIC7w1z"
      },
      "execution_count": null,
      "outputs": [
        {
          "output_type": "stream",
          "name": "stdout",
          "text": [
            "Epoch 1/10\n",
            "375/375 [==============================] - 7s 16ms/step - loss: 0.6433 - binary_accuracy: 0.6491 - val_loss: 0.6018 - val_binary_accuracy: 0.6840\n",
            "Epoch 2/10\n",
            "375/375 [==============================] - 2s 4ms/step - loss: 0.5645 - binary_accuracy: 0.7122 - val_loss: 0.5479 - val_binary_accuracy: 0.7254\n",
            "Epoch 3/10\n",
            "375/375 [==============================] - 2s 5ms/step - loss: 0.5089 - binary_accuracy: 0.7587 - val_loss: 0.5065 - val_binary_accuracy: 0.7584\n",
            "Epoch 4/10\n",
            "375/375 [==============================] - 2s 6ms/step - loss: 0.4642 - binary_accuracy: 0.7922 - val_loss: 0.4730 - val_binary_accuracy: 0.7838\n",
            "Epoch 5/10\n",
            "375/375 [==============================] - 2s 6ms/step - loss: 0.4244 - binary_accuracy: 0.8192 - val_loss: 0.4461 - val_binary_accuracy: 0.7980\n",
            "Epoch 6/10\n",
            "375/375 [==============================] - 2s 6ms/step - loss: 0.3925 - binary_accuracy: 0.8363 - val_loss: 0.4230 - val_binary_accuracy: 0.8096\n",
            "Epoch 7/10\n",
            "375/375 [==============================] - 3s 8ms/step - loss: 0.3614 - binary_accuracy: 0.8530 - val_loss: 0.4046 - val_binary_accuracy: 0.8210\n",
            "Epoch 8/10\n",
            "375/375 [==============================] - 2s 6ms/step - loss: 0.3364 - binary_accuracy: 0.8650 - val_loss: 0.3899 - val_binary_accuracy: 0.8278\n",
            "Epoch 9/10\n",
            "375/375 [==============================] - 2s 6ms/step - loss: 0.3138 - binary_accuracy: 0.8768 - val_loss: 0.3772 - val_binary_accuracy: 0.8338\n",
            "Epoch 10/10\n",
            "375/375 [==============================] - 2s 6ms/step - loss: 0.2934 - binary_accuracy: 0.8873 - val_loss: 0.3671 - val_binary_accuracy: 0.8386\n"
          ]
        }
      ]
    },
    {
      "cell_type": "code",
      "source": [
        "history_dict = history_NNBest_60.history\n",
        "history_dict.keys()\n",
        "acc = history_dict['binary_accuracy']\n",
        "val_acc = history_dict['val_binary_accuracy']\n",
        "loss = history_dict['loss']\n",
        "val_loss = history_dict['val_loss']\n",
        "\n",
        "epochs = range(1, len(acc) + 1)\n",
        "\n",
        "plt.plot(epochs, acc, 'bo', label='Training acc')\n",
        "plt.plot(epochs, val_acc, 'b', label='Validation acc')\n",
        "plt.title('Training and validation accuracy')\n",
        "plt.xlabel('Epochs')\n",
        "plt.ylabel('Accuracy')\n",
        "plt.legend(loc='lower right')\n",
        "\n",
        "plt.show()"
      ],
      "metadata": {
        "colab": {
          "base_uri": "https://localhost:8080/",
          "height": 295
        },
        "outputId": "2a7f025e-dea6-435f-b660-222f15059287",
        "id": "JaJsuqVa7w1z"
      },
      "execution_count": null,
      "outputs": [
        {
          "output_type": "display_data",
          "data": {
            "text/plain": [
              "<Figure size 432x288 with 1 Axes>"
            ],
            "image/png": "[encoded data removed]"
          },
          "metadata": {
            "needs_background": "light"
          }
        }
      ]
    },
    {
      "cell_type": "code",
      "source": [
        "raw_train_ds = tf.keras.utils.text_dataset_from_directory(\n",
        "    'aclImdb/train', \n",
        "    batch_size=batch_size, \n",
        "    validation_split=0.36, \n",
        "    subset='training',\n",
        "    seed=seed)\n",
        "\n",
        "raw_val_ds = tf.keras.utils.text_dataset_from_directory(\n",
        "    'aclImdb/train', \n",
        "    batch_size=batch_size, \n",
        "    validation_split=0.2, \n",
        "    subset='validation', \n",
        "    seed=seed)\n",
        "\n",
        "\n",
        "raw_test_ds = tf.keras.utils.text_dataset_from_directory(\n",
        "    'aclImdb/test', \n",
        "    batch_size=batch_size)\n",
        "\n",
        "max_features = 10000\n",
        "sequence_length = 250\n",
        "\n",
        "vectorize_layer = layers.TextVectorization(\n",
        "    standardize=custom_standardization,\n",
        "    max_tokens=max_features,\n",
        "    output_mode='int',\n",
        "    output_sequence_length=sequence_length)\n",
        "\n",
        "train_text = raw_train_ds.map(lambda x, y: x)\n",
        "vectorize_layer.adapt(train_text)\n",
        "\n",
        "train_ds = raw_train_ds.map(vectorize_text)\n",
        "val_ds = raw_val_ds.map(vectorize_text)\n",
        "test_ds = raw_test_ds.map(vectorize_text)\n",
        "\n",
        "AUTOTUNE = tf.data.AUTOTUNE\n",
        "\n",
        "train_ds = train_ds.cache().prefetch(buffer_size=AUTOTUNE)\n",
        "val_ds = val_ds.cache().prefetch(buffer_size=AUTOTUNE)\n",
        "test_ds = test_ds.cache().prefetch(buffer_size=AUTOTUNE)"
      ],
      "metadata": {
        "colab": {
          "base_uri": "https://localhost:8080/"
        },
        "outputId": "f7a87c1a-7237-457f-ace7-123dfac0ac05",
        "id": "iKksda0p7xkw"
      },
      "execution_count": null,
      "outputs": [
        {
          "output_type": "stream",
          "name": "stdout",
          "text": [
            "Found 25000 files belonging to 2 classes.\n",
            "Using 16000 files for training.\n",
            "Found 25000 files belonging to 2 classes.\n",
            "Using 5000 files for validation.\n",
            "Found 25000 files belonging to 2 classes.\n"
          ]
        }
      ]
    },
    {
      "cell_type": "code",
      "source": [
        "NNBest.compile(loss=losses.BinaryCrossentropy(from_logits=True),\n",
        "              optimizer='adam',\n",
        "              metrics=tf.metrics.BinaryAccuracy(threshold=0.0))\n",
        "\n",
        "epochs = 10\n",
        "history_NNBest_80 = NNBest.fit(\n",
        "    train_ds,\n",
        "    validation_data=val_ds,\n",
        "    epochs=epochs)"
      ],
      "metadata": {
        "colab": {
          "base_uri": "https://localhost:8080/"
        },
        "outputId": "01ca3589-0019-4a4b-cd4b-5bb2821e77c9",
        "id": "hjrinnNI7xkx"
      },
      "execution_count": null,
      "outputs": [
        {
          "output_type": "stream",
          "name": "stdout",
          "text": [
            "Epoch 1/10\n",
            "500/500 [==============================] - 9s 17ms/step - loss: 0.7323 - binary_accuracy: 0.6197 - val_loss: 0.6538 - val_binary_accuracy: 0.6698\n",
            "Epoch 2/10\n",
            "500/500 [==============================] - 2s 4ms/step - loss: 0.5920 - binary_accuracy: 0.7031 - val_loss: 0.5657 - val_binary_accuracy: 0.7234\n",
            "Epoch 3/10\n",
            "500/500 [==============================] - 2s 4ms/step - loss: 0.5108 - binary_accuracy: 0.7546 - val_loss: 0.5084 - val_binary_accuracy: 0.7554\n",
            "Epoch 4/10\n",
            "500/500 [==============================] - 2s 4ms/step - loss: 0.4532 - binary_accuracy: 0.7933 - val_loss: 0.4679 - val_binary_accuracy: 0.7822\n",
            "Epoch 5/10\n",
            "500/500 [==============================] - 2s 4ms/step - loss: 0.4118 - binary_accuracy: 0.8210 - val_loss: 0.4363 - val_binary_accuracy: 0.8002\n",
            "Epoch 6/10\n",
            "500/500 [==============================] - 2s 4ms/step - loss: 0.3751 - binary_accuracy: 0.8419 - val_loss: 0.4114 - val_binary_accuracy: 0.8186\n",
            "Epoch 7/10\n",
            "500/500 [==============================] - 3s 5ms/step - loss: 0.3454 - binary_accuracy: 0.8608 - val_loss: 0.3917 - val_binary_accuracy: 0.8284\n",
            "Epoch 8/10\n",
            "500/500 [==============================] - 3s 6ms/step - loss: 0.3186 - binary_accuracy: 0.8739 - val_loss: 0.3750 - val_binary_accuracy: 0.8364\n",
            "Epoch 9/10\n",
            "500/500 [==============================] - 3s 6ms/step - loss: 0.2965 - binary_accuracy: 0.8837 - val_loss: 0.3625 - val_binary_accuracy: 0.8430\n",
            "Epoch 10/10\n",
            "500/500 [==============================] - 3s 5ms/step - loss: 0.2764 - binary_accuracy: 0.8916 - val_loss: 0.3522 - val_binary_accuracy: 0.8502\n"
          ]
        }
      ]
    },
    {
      "cell_type": "code",
      "source": [
        "history_dict = history_NNBest_80.history\n",
        "history_dict.keys()\n",
        "acc = history_dict['binary_accuracy']\n",
        "val_acc = history_dict['val_binary_accuracy']\n",
        "loss = history_dict['loss']\n",
        "val_loss = history_dict['val_loss']\n",
        "\n",
        "epochs = range(1, len(acc) + 1)\n",
        "\n",
        "plt.plot(epochs, acc, 'bo', label='Training acc')\n",
        "plt.plot(epochs, val_acc, 'b', label='Validation acc')\n",
        "plt.title('Training and validation accuracy')\n",
        "plt.xlabel('Epochs')\n",
        "plt.ylabel('Accuracy')\n",
        "plt.legend(loc='lower right')\n",
        "\n",
        "plt.show()"
      ],
      "metadata": {
        "colab": {
          "base_uri": "https://localhost:8080/",
          "height": 295
        },
        "outputId": "bbe4de7f-6678-4471-ba0f-609e47382313",
        "id": "KCQZSFUR7xkx"
      },
      "execution_count": null,
      "outputs": [
        {
          "output_type": "display_data",
          "data": {
            "text/plain": [
              "<Figure size 432x288 with 1 Axes>"
            ],
            "image/png": "[encoded data removed]"
          },
          "metadata": {
            "needs_background": "light"
          }
        }
      ]
    },
    {
      "cell_type": "code",
      "source": [
        "raw_train_ds = tf.keras.utils.text_dataset_from_directory(\n",
        "    'aclImdb/train', \n",
        "    batch_size=batch_size, \n",
        "    validation_split=0.2, \n",
        "    subset='training',\n",
        "    seed=seed)\n",
        "\n",
        "raw_val_ds = tf.keras.utils.text_dataset_from_directory(\n",
        "    'aclImdb/train', \n",
        "    batch_size=batch_size, \n",
        "    validation_split=0.2, \n",
        "    subset='validation', \n",
        "    seed=seed)\n",
        "\n",
        "\n",
        "raw_test_ds = tf.keras.utils.text_dataset_from_directory(\n",
        "    'aclImdb/test', \n",
        "    batch_size=batch_size)\n",
        "\n",
        "max_features = 10000\n",
        "sequence_length = 250\n",
        "\n",
        "vectorize_layer = layers.TextVectorization(\n",
        "    standardize=custom_standardization,\n",
        "    max_tokens=max_features,\n",
        "    output_mode='int',\n",
        "    output_sequence_length=sequence_length)\n",
        "\n",
        "train_text = raw_train_ds.map(lambda x, y: x)\n",
        "vectorize_layer.adapt(train_text)\n",
        "\n",
        "train_ds = raw_train_ds.map(vectorize_text)\n",
        "val_ds = raw_val_ds.map(vectorize_text)\n",
        "test_ds = raw_test_ds.map(vectorize_text)\n",
        "\n",
        "AUTOTUNE = tf.data.AUTOTUNE\n",
        "\n",
        "train_ds = train_ds.cache().prefetch(buffer_size=AUTOTUNE)\n",
        "val_ds = val_ds.cache().prefetch(buffer_size=AUTOTUNE)\n",
        "test_ds = test_ds.cache().prefetch(buffer_size=AUTOTUNE)"
      ],
      "metadata": {
        "colab": {
          "base_uri": "https://localhost:8080/"
        },
        "outputId": "3833ae45-b54c-4f9d-9994-0c4ea939fd04",
        "id": "zxy50uPI7yfz"
      },
      "execution_count": null,
      "outputs": [
        {
          "output_type": "stream",
          "name": "stdout",
          "text": [
            "Found 25000 files belonging to 2 classes.\n",
            "Using 20000 files for training.\n",
            "Found 25000 files belonging to 2 classes.\n",
            "Using 5000 files for validation.\n",
            "Found 25000 files belonging to 2 classes.\n"
          ]
        }
      ]
    },
    {
      "cell_type": "code",
      "source": [
        "NNBest.compile(loss=losses.BinaryCrossentropy(from_logits=True),\n",
        "              optimizer='adam',\n",
        "              metrics=tf.metrics.BinaryAccuracy(threshold=0.0))\n",
        "\n",
        "epochs = 10\n",
        "history_NNBest_100 = NNBest.fit(\n",
        "    train_ds,\n",
        "    validation_data=val_ds,\n",
        "    epochs=epochs)"
      ],
      "metadata": {
        "colab": {
          "base_uri": "https://localhost:8080/"
        },
        "outputId": "07170835-a1f9-47d8-9f22-45ec3f1dfaa5",
        "id": "T8imQhvY7yf0"
      },
      "execution_count": null,
      "outputs": [
        {
          "output_type": "stream",
          "name": "stdout",
          "text": [
            "Epoch 1/10\n",
            "625/625 [==============================] - 8s 13ms/step - loss: 0.6437 - binary_accuracy: 0.6811 - val_loss: 0.5874 - val_binary_accuracy: 0.7120\n",
            "Epoch 2/10\n",
            "625/625 [==============================] - 3s 4ms/step - loss: 0.5257 - binary_accuracy: 0.7492 - val_loss: 0.5136 - val_binary_accuracy: 0.7540\n",
            "Epoch 3/10\n",
            "625/625 [==============================] - 3s 4ms/step - loss: 0.4590 - binary_accuracy: 0.7916 - val_loss: 0.4667 - val_binary_accuracy: 0.7788\n",
            "Epoch 4/10\n",
            "625/625 [==============================] - 3s 4ms/step - loss: 0.4122 - binary_accuracy: 0.8207 - val_loss: 0.4332 - val_binary_accuracy: 0.8014\n",
            "Epoch 5/10\n",
            "625/625 [==============================] - 3s 4ms/step - loss: 0.3778 - binary_accuracy: 0.8418 - val_loss: 0.4080 - val_binary_accuracy: 0.8130\n",
            "Epoch 6/10\n",
            "625/625 [==============================] - 3s 4ms/step - loss: 0.3485 - binary_accuracy: 0.8571 - val_loss: 0.3882 - val_binary_accuracy: 0.8276\n",
            "Epoch 7/10\n",
            "625/625 [==============================] - 3s 4ms/step - loss: 0.3238 - binary_accuracy: 0.8685 - val_loss: 0.3726 - val_binary_accuracy: 0.8352\n",
            "Epoch 8/10\n",
            "625/625 [==============================] - 3s 4ms/step - loss: 0.3030 - binary_accuracy: 0.8796 - val_loss: 0.3600 - val_binary_accuracy: 0.8416\n",
            "Epoch 9/10\n",
            "625/625 [==============================] - 3s 4ms/step - loss: 0.2842 - binary_accuracy: 0.8875 - val_loss: 0.3502 - val_binary_accuracy: 0.8492\n",
            "Epoch 10/10\n",
            "625/625 [==============================] - 3s 4ms/step - loss: 0.2664 - binary_accuracy: 0.8974 - val_loss: 0.3422 - val_binary_accuracy: 0.8540\n"
          ]
        }
      ]
    },
    {
      "cell_type": "code",
      "source": [
        "history_dict = history_NNBest_100.history\n",
        "history_dict.keys()\n",
        "acc = history_dict['binary_accuracy']\n",
        "val_acc = history_dict['val_binary_accuracy']\n",
        "loss = history_dict['loss']\n",
        "val_loss = history_dict['val_loss']\n",
        "\n",
        "epochs = range(1, len(acc) + 1)\n",
        "\n",
        "plt.plot(epochs, acc, 'bo', label='Training acc')\n",
        "plt.plot(epochs, val_acc, 'b', label='Validation acc')\n",
        "plt.title('Training and validation accuracy')\n",
        "plt.xlabel('Epochs')\n",
        "plt.ylabel('Accuracy')\n",
        "plt.legend(loc='lower right')\n",
        "\n",
        "plt.show()"
      ],
      "metadata": {
        "colab": {
          "base_uri": "https://localhost:8080/",
          "height": 295
        },
        "outputId": "997a2682-567e-46de-f217-7e582b652db2",
        "id": "Mdi_AL-s7yf0"
      },
      "execution_count": null,
      "outputs": [
        {
          "output_type": "display_data",
          "data": {
            "text/plain": [
              "<Figure size 432x288 with 1 Axes>"
            ],
            "image/png": "[encoded data removed]"
          },
          "metadata": {
            "needs_background": "light"
          }
        }
      ]
    },
    {
      "cell_type": "markdown",
      "source": [
        "# Task 5"
      ],
      "metadata": {
        "id": "VlEMrF-W1hLq"
      }
    },
    {
      "cell_type": "code",
      "source": [
        "# A dependency of the preprocessing for BERT inputs\n",
        "!pip install -q -U \"tensorflow-text==2.9.0\""
      ],
      "metadata": {
        "id": "6GQjV4OIXzBr",
        "colab": {
          "base_uri": "https://localhost:8080/"
        },
        "outputId": "995ae956-d57d-473d-f406-57b04fff1927"
      },
      "execution_count": null,
      "outputs": [
        {
          "output_type": "stream",
          "name": "stdout",
          "text": [
            "\u001b[K     |████████████████████████████████| 4.6 MB 34.6 MB/s \n",
            "\u001b[?25h"
          ]
        }
      ]
    },
    {
      "cell_type": "code",
      "source": [
        "!pip install -q tf-models-official==2.7.0"
      ],
      "metadata": {
        "id": "QqRA1wAQMQL-",
        "colab": {
          "base_uri": "https://localhost:8080/"
        },
        "outputId": "98607130-e8f3-4302-fcec-a6fa5dc8ca15"
      },
      "execution_count": null,
      "outputs": [
        {
          "output_type": "stream",
          "name": "stdout",
          "text": [
            "\u001b[K     |████████████████████████████████| 1.8 MB 18.7 MB/s \n",
            "\u001b[K     |████████████████████████████████| 352 kB 60.5 MB/s \n",
            "\u001b[K     |████████████████████████████████| 43 kB 2.1 MB/s \n",
            "\u001b[K     |████████████████████████████████| 238 kB 60.6 MB/s \n",
            "\u001b[K     |████████████████████████████████| 99 kB 9.5 MB/s \n",
            "\u001b[K     |████████████████████████████████| 1.1 MB 53.9 MB/s \n",
            "\u001b[K     |████████████████████████████████| 1.3 MB 46.8 MB/s \n",
            "\u001b[K     |████████████████████████████████| 118 kB 77.5 MB/s \n",
            "\u001b[?25h  Building wheel for py-cpuinfo (setup.py) ... \u001b[?25l\u001b[?25hdone\n",
            "  Building wheel for seqeval (setup.py) ... \u001b[?25l\u001b[?25hdone\n"
          ]
        }
      ]
    },
    {
      "cell_type": "code",
      "source": [
        "import numpy as np"
      ],
      "metadata": {
        "id": "n-ZBAxRDD0EU"
      },
      "execution_count": null,
      "outputs": []
    },
    {
      "cell_type": "code",
      "source": [
        "import tensorflow_hub as hub\n",
        "import tensorflow_text as text"
      ],
      "metadata": {
        "id": "16ZGVxisKEOT"
      },
      "execution_count": null,
      "outputs": []
    },
    {
      "cell_type": "code",
      "source": [
        "AUTOTUNE = tf.data.AUTOTUNE\n",
        "batch_size = 32\n",
        "seed = 42\n",
        "\n",
        "raw_train_ds = tf.keras.utils.text_dataset_from_directory(\n",
        "    'aclImdb/train',\n",
        "    batch_size=batch_size,\n",
        "    validation_split=0.2,\n",
        "    subset='training',\n",
        "    seed=seed)\n",
        "\n",
        "class_names = raw_train_ds.class_names\n",
        "train_ds = raw_train_ds.cache().prefetch(buffer_size=AUTOTUNE)\n",
        "\n",
        "val_ds = tf.keras.utils.text_dataset_from_directory(\n",
        "    'aclImdb/train',\n",
        "    batch_size=batch_size,\n",
        "    validation_split=0.2,\n",
        "    subset='validation',\n",
        "    seed=seed)\n",
        "\n",
        "val_ds = val_ds.cache().prefetch(buffer_size=AUTOTUNE)\n",
        "\n",
        "test_ds = tf.keras.utils.text_dataset_from_directory(\n",
        "    'aclImdb/test',\n",
        "    batch_size=batch_size)\n",
        "\n",
        "test_ds_bert = test_ds.cache().prefetch(buffer_size=AUTOTUNE)"
      ],
      "metadata": {
        "colab": {
          "base_uri": "https://localhost:8080/"
        },
        "id": "3PeO5_OhbfBj",
        "outputId": "5f534296-4d77-4a90-ffc7-51d0d9760995"
      },
      "execution_count": null,
      "outputs": [
        {
          "output_type": "stream",
          "name": "stdout",
          "text": [
            "Found 25000 files belonging to 2 classes.\n",
            "Using 20000 files for training.\n",
            "Found 25000 files belonging to 2 classes.\n",
            "Using 5000 files for validation.\n",
            "Found 25000 files belonging to 2 classes.\n"
          ]
        }
      ]
    },
    {
      "cell_type": "code",
      "source": [
        "bert_model_name = 'small_bert/bert_en_uncased_L-4_H-512_A-8' \n",
        "\n",
        "\n",
        "tfhub_handle_encoder = 'https://tfhub.dev/tensorflow/small_bert/bert_en_uncased_L-4_H-512_A-8/1'\n",
        "tfhub_handle_preprocess = 'https://tfhub.dev/tensorflow/bert_en_uncased_preprocess/3'"
      ],
      "metadata": {
        "id": "A7UxOqZzJ6r_"
      },
      "execution_count": null,
      "outputs": []
    },
    {
      "cell_type": "code",
      "source": [
        "bert_preprocess_model = hub.KerasLayer(tfhub_handle_preprocess)\n",
        "bert_model = hub.KerasLayer(tfhub_handle_encoder)"
      ],
      "metadata": {
        "id": "BKmJs-uKJMu4"
      },
      "execution_count": null,
      "outputs": []
    },
    {
      "cell_type": "code",
      "source": [
        "def build_classifier_model(dropout_value):\n",
        "  text_input = tf.keras.layers.Input(shape=(), dtype=tf.string, name='text')\n",
        "  preprocessing_layer = hub.KerasLayer(tfhub_handle_preprocess, name='preprocessing')\n",
        "  encoder_inputs = preprocessing_layer(text_input)\n",
        "  encoder = hub.KerasLayer(tfhub_handle_encoder, trainable=True, name='BERT_encoder')\n",
        "  outputs = encoder(encoder_inputs)\n",
        "  net = outputs['pooled_output']\n",
        "  net = tf.keras.layers.Dropout(dropout_value)(net)\n",
        "  net = tf.keras.layers.Dense(1, activation=None, name='classifier')(net)\n",
        "  return tf.keras.Model(text_input, net)"
      ],
      "metadata": {
        "id": "23B7408JKZsh"
      },
      "execution_count": null,
      "outputs": []
    },
    {
      "cell_type": "code",
      "source": [
        "BERTi = build_classifier_model(dropout_value=0.1)\n",
        "BERTii = build_classifier_model(dropout_value=0.2)\n",
        "BERTiii = build_classifier_model(dropout_value=0.6)"
      ],
      "metadata": {
        "id": "IPfYMM6hKjeb"
      },
      "execution_count": null,
      "outputs": []
    },
    {
      "cell_type": "code",
      "source": [
        "loss = tf.keras.losses.BinaryCrossentropy(from_logits=True)\n",
        "metrics = tf.metrics.BinaryAccuracy()"
      ],
      "metadata": {
        "id": "90ReoffpMCML"
      },
      "execution_count": null,
      "outputs": []
    },
    {
      "cell_type": "code",
      "source": [
        "from official.nlp import optimization\n",
        "\n",
        "epochs = 10\n",
        "steps_per_epoch = tf.data.experimental.cardinality(train_ds).numpy()\n",
        "num_train_steps = steps_per_epoch * epochs\n",
        "num_warmup_steps = int(0.1*num_train_steps)\n",
        "\n",
        "init_lr = 3e-5\n",
        "optimizer = optimization.create_optimizer(init_lr=init_lr,\n",
        "                                          num_train_steps=num_train_steps,\n",
        "                                          num_warmup_steps=num_warmup_steps,\n",
        "                                          optimizer_type='adamw')"
      ],
      "metadata": {
        "id": "8M_IdQxfMCON"
      },
      "execution_count": null,
      "outputs": []
    },
    {
      "cell_type": "code",
      "source": [
        "BERTi.compile(optimizer=optimizer, loss=loss, metrics=metrics)\n",
        "BERTii.compile(optimizer=optimizer, loss=loss, metrics=metrics)\n",
        "BERTiii.compile(optimizer=optimizer, loss=loss, metrics=metrics)"
      ],
      "metadata": {
        "id": "DyJcPBR_MCRK"
      },
      "execution_count": null,
      "outputs": []
    },
    {
      "cell_type": "code",
      "source": [
        "history_BERTi = BERTi.fit(train_ds, validation_data=val_ds, epochs=epochs)"
      ],
      "metadata": {
        "colab": {
          "base_uri": "https://localhost:8080/"
        },
        "id": "ZUo9U4V6MCTK",
        "outputId": "72d64b07-cdfa-4ed4-81e0-a46c5deb5ac2"
      },
      "execution_count": null,
      "outputs": [
        {
          "output_type": "stream",
          "name": "stdout",
          "text": [
            "Epoch 1/10\n",
            "625/625 [==============================] - 162s 253ms/step - loss: 0.1652 - binary_accuracy: 0.9127 - val_loss: 0.4904 - val_binary_accuracy: 0.8428\n",
            "Epoch 2/10\n",
            "625/625 [==============================] - 157s 251ms/step - loss: 0.1645 - binary_accuracy: 0.9389 - val_loss: 0.5580 - val_binary_accuracy: 0.8488\n",
            "Epoch 3/10\n",
            "625/625 [==============================] - 157s 251ms/step - loss: 0.1156 - binary_accuracy: 0.9604 - val_loss: 0.6975 - val_binary_accuracy: 0.8414\n",
            "Epoch 4/10\n",
            "625/625 [==============================] - 157s 251ms/step - loss: 0.0892 - binary_accuracy: 0.9711 - val_loss: 0.7577 - val_binary_accuracy: 0.8468\n",
            "Epoch 5/10\n",
            "625/625 [==============================] - 157s 251ms/step - loss: 0.0681 - binary_accuracy: 0.9800 - val_loss: 0.8085 - val_binary_accuracy: 0.8476\n",
            "Epoch 6/10\n",
            "625/625 [==============================] - 157s 251ms/step - loss: 0.0549 - binary_accuracy: 0.9840 - val_loss: 0.8688 - val_binary_accuracy: 0.8504\n",
            "Epoch 7/10\n",
            "625/625 [==============================] - 157s 251ms/step - loss: 0.0410 - binary_accuracy: 0.9887 - val_loss: 0.8937 - val_binary_accuracy: 0.8504\n",
            "Epoch 8/10\n",
            "625/625 [==============================] - 157s 252ms/step - loss: 0.0250 - binary_accuracy: 0.9931 - val_loss: 0.9409 - val_binary_accuracy: 0.8548\n",
            "Epoch 9/10\n",
            "625/625 [==============================] - 157s 251ms/step - loss: 0.0219 - binary_accuracy: 0.9946 - val_loss: 0.9564 - val_binary_accuracy: 0.8584\n",
            "Epoch 10/10\n",
            "625/625 [==============================] - 156s 249ms/step - loss: 0.0178 - binary_accuracy: 0.9952 - val_loss: 0.9645 - val_binary_accuracy: 0.8568\n"
          ]
        }
      ]
    },
    {
      "cell_type": "code",
      "source": [
        "history_BERTii = BERTii.fit(x=train_ds, validation_data=val_ds, epochs=epochs)"
      ],
      "metadata": {
        "id": "pmrpMr_tNrzo",
        "colab": {
          "base_uri": "https://localhost:8080/"
        },
        "outputId": "94c85e2d-c774-47f5-a480-f8e1e57b8727"
      },
      "execution_count": null,
      "outputs": [
        {
          "output_type": "stream",
          "name": "stdout",
          "text": [
            "Epoch 1/10\n",
            "625/625 [==============================] - 160s 252ms/step - loss: 0.4115 - binary_accuracy: 0.7973 - val_loss: 0.4222 - val_binary_accuracy: 0.7748\n",
            "Epoch 2/10\n",
            "625/625 [==============================] - 156s 250ms/step - loss: 0.4094 - binary_accuracy: 0.7861 - val_loss: 0.4222 - val_binary_accuracy: 0.7748\n",
            "Epoch 3/10\n",
            "625/625 [==============================] - 157s 251ms/step - loss: 0.4095 - binary_accuracy: 0.7852 - val_loss: 0.4222 - val_binary_accuracy: 0.7748\n",
            "Epoch 4/10\n",
            "625/625 [==============================] - 157s 252ms/step - loss: 0.4070 - binary_accuracy: 0.7844 - val_loss: 0.4222 - val_binary_accuracy: 0.7748\n",
            "Epoch 5/10\n",
            "625/625 [==============================] - 156s 250ms/step - loss: 0.4086 - binary_accuracy: 0.7844 - val_loss: 0.4222 - val_binary_accuracy: 0.7748\n",
            "Epoch 6/10\n",
            "625/625 [==============================] - 157s 251ms/step - loss: 0.4096 - binary_accuracy: 0.7845 - val_loss: 0.4222 - val_binary_accuracy: 0.7748\n",
            "Epoch 7/10\n",
            "625/625 [==============================] - 157s 251ms/step - loss: 0.4089 - binary_accuracy: 0.7854 - val_loss: 0.4222 - val_binary_accuracy: 0.7748\n",
            "Epoch 8/10\n",
            "625/625 [==============================] - 156s 249ms/step - loss: 0.4079 - binary_accuracy: 0.7818 - val_loss: 0.4222 - val_binary_accuracy: 0.7748\n",
            "Epoch 9/10\n",
            "625/625 [==============================] - 157s 250ms/step - loss: 0.4084 - binary_accuracy: 0.7843 - val_loss: 0.4222 - val_binary_accuracy: 0.7748\n",
            "Epoch 10/10\n",
            "625/625 [==============================] - 157s 252ms/step - loss: 0.4097 - binary_accuracy: 0.7821 - val_loss: 0.4222 - val_binary_accuracy: 0.7748\n"
          ]
        }
      ]
    },
    {
      "cell_type": "code",
      "source": [
        "history_BERTiii = BERTii.fit(x=train_ds, validation_data=val_ds, epochs=epochs)"
      ],
      "metadata": {
        "id": "zNcOb75zNtbQ",
        "colab": {
          "base_uri": "https://localhost:8080/"
        },
        "outputId": "e9f9dfe7-48bb-4961-c4f3-5df542a1831b"
      },
      "execution_count": null,
      "outputs": [
        {
          "output_type": "stream",
          "name": "stdout",
          "text": [
            "Epoch 1/10\n",
            "625/625 [==============================] - 158s 252ms/step - loss: 0.4088 - binary_accuracy: 0.7850 - val_loss: 0.4222 - val_binary_accuracy: 0.7748\n",
            "Epoch 2/10\n",
            "625/625 [==============================] - 157s 251ms/step - loss: 0.4086 - binary_accuracy: 0.7833 - val_loss: 0.4222 - val_binary_accuracy: 0.7748\n",
            "Epoch 3/10\n",
            "625/625 [==============================] - 157s 251ms/step - loss: 0.4106 - binary_accuracy: 0.7826 - val_loss: 0.4222 - val_binary_accuracy: 0.7748\n",
            "Epoch 4/10\n",
            "625/625 [==============================] - 156s 250ms/step - loss: 0.4060 - binary_accuracy: 0.7837 - val_loss: 0.4222 - val_binary_accuracy: 0.7748\n",
            "Epoch 5/10\n",
            "625/625 [==============================] - 157s 252ms/step - loss: 0.4095 - binary_accuracy: 0.7849 - val_loss: 0.4222 - val_binary_accuracy: 0.7748\n",
            "Epoch 6/10\n",
            "625/625 [==============================] - 157s 252ms/step - loss: 0.4094 - binary_accuracy: 0.7827 - val_loss: 0.4222 - val_binary_accuracy: 0.7748\n",
            "Epoch 7/10\n",
            "625/625 [==============================] - 155s 249ms/step - loss: 0.4114 - binary_accuracy: 0.7851 - val_loss: 0.4222 - val_binary_accuracy: 0.7748\n",
            "Epoch 8/10\n",
            "625/625 [==============================] - 156s 250ms/step - loss: 0.4088 - binary_accuracy: 0.7860 - val_loss: 0.4222 - val_binary_accuracy: 0.7748\n",
            "Epoch 9/10\n",
            "625/625 [==============================] - 156s 250ms/step - loss: 0.4100 - binary_accuracy: 0.7857 - val_loss: 0.4222 - val_binary_accuracy: 0.7748\n",
            "Epoch 10/10\n",
            "625/625 [==============================] - 157s 251ms/step - loss: 0.4095 - binary_accuracy: 0.7847 - val_loss: 0.4222 - val_binary_accuracy: 0.7748\n"
          ]
        }
      ]
    },
    {
      "cell_type": "code",
      "source": [
        "loss, accuracy = BERTi.evaluate(test_ds_bert)\n",
        "\n",
        "print(f'Loss: {loss}')\n",
        "print(f'Accuracy: {accuracy}')"
      ],
      "metadata": {
        "id": "_inJADMVMCWd",
        "colab": {
          "base_uri": "https://localhost:8080/"
        },
        "outputId": "fdc451f9-3d76-4b75-dbd7-3bec5e82ae53"
      },
      "execution_count": null,
      "outputs": [
        {
          "output_type": "stream",
          "name": "stdout",
          "text": [
            "782/782 [==============================] - 87s 111ms/step - loss: 0.9837 - binary_accuracy: 0.8538\n",
            "Loss: 0.9836998581886292\n",
            "Accuracy: 0.8537600040435791\n"
          ]
        }
      ]
    },
    {
      "cell_type": "code",
      "source": [
        "loss, accuracy = BERTii.evaluate(test_ds_bert)\n",
        "\n",
        "print(f'Loss: {loss}')\n",
        "print(f'Accuracy: {accuracy}')"
      ],
      "metadata": {
        "id": "RnG_DZxdNo9g",
        "colab": {
          "base_uri": "https://localhost:8080/"
        },
        "outputId": "746466fc-0363-471a-fe7d-05bcec02892c"
      },
      "execution_count": null,
      "outputs": [
        {
          "output_type": "stream",
          "name": "stdout",
          "text": [
            "782/782 [==============================] - 107s 137ms/step - loss: 0.4125 - binary_accuracy: 0.7808\n",
            "Loss: 0.4125295579433441\n",
            "Accuracy: 0.7807599902153015\n"
          ]
        }
      ]
    },
    {
      "cell_type": "code",
      "source": [
        "loss, accuracy = BERTiii.evaluate(test_ds_bert)\n",
        "\n",
        "print(f'Loss: {loss}')\n",
        "print(f'Accuracy: {accuracy}')"
      ],
      "metadata": {
        "id": "wemJn4YKNppg",
        "colab": {
          "base_uri": "https://localhost:8080/"
        },
        "outputId": "ff495e10-9846-49e0-aa44-08107aab397a"
      },
      "execution_count": null,
      "outputs": [
        {
          "output_type": "stream",
          "name": "stdout",
          "text": [
            "782/782 [==============================] - 86s 109ms/step - loss: 0.7996 - binary_accuracy: 0.6383\n",
            "Loss: 0.7996100783348083\n",
            "Accuracy: 0.6383399963378906\n"
          ]
        }
      ]
    },
    {
      "cell_type": "markdown",
      "source": [
        "Model Berti's accuracy is about 0.85 but both Bertii and Bertiii accuracy are 0.77. So that Berti is best model.\n"
      ],
      "metadata": {
        "id": "j2QwVWGZ88tW"
      }
    },
    {
      "cell_type": "markdown",
      "source": [
        "NNBest accuracy start from 0.77 to 0.85 but Berti model has 0.85 as the first epoch, so that Berti better than NNBest model"
      ],
      "metadata": {
        "id": "avZDLnStoEDh"
      }
    },
    {
      "cell_type": "markdown",
      "source": [
        "# Task 6"
      ],
      "metadata": {
        "id": "Vk2jAUO61n1a"
      }
    },
    {
      "cell_type": "code",
      "source": [
        "data_test_bert = [[example.numpy(), label.numpy()] for example, label in test_ds_bert]"
      ],
      "metadata": {
        "id": "m6yLHycO-lRw",
        "colab": {
          "base_uri": "https://localhost:8080/",
          "height": 172
        },
        "outputId": "ed115955-0531-4bc0-912a-b56295b1d085"
      },
      "execution_count": 1,
      "outputs": [
        {
          "output_type": "error",
          "ename": "NameError",
          "evalue": "ignored",
          "traceback": [
            "\u001b[0;31m---------------------------------------------------------------------------\u001b[0m",
            "\u001b[0;31mNameError\u001b[0m                                 Traceback (most recent call last)",
            "\u001b[0;32m<ipython-input-1-597fd34e4018>\u001b[0m in \u001b[0;36m<module>\u001b[0;34m\u001b[0m\n\u001b[0;32m----> 1\u001b[0;31m \u001b[0mdata_test_bert\u001b[0m \u001b[0;34m=\u001b[0m \u001b[0;34m[\u001b[0m\u001b[0;34m[\u001b[0m\u001b[0mexample\u001b[0m\u001b[0;34m.\u001b[0m\u001b[0mnumpy\u001b[0m\u001b[0;34m(\u001b[0m\u001b[0;34m)\u001b[0m\u001b[0;34m,\u001b[0m \u001b[0mlabel\u001b[0m\u001b[0;34m.\u001b[0m\u001b[0mnumpy\u001b[0m\u001b[0;34m(\u001b[0m\u001b[0;34m)\u001b[0m\u001b[0;34m]\u001b[0m \u001b[0;32mfor\u001b[0m \u001b[0mexample\u001b[0m\u001b[0;34m,\u001b[0m \u001b[0mlabel\u001b[0m \u001b[0;32min\u001b[0m \u001b[0mtest_ds_bert\u001b[0m\u001b[0;34m]\u001b[0m\u001b[0;34m\u001b[0m\u001b[0;34m\u001b[0m\u001b[0m\n\u001b[0m",
            "\u001b[0;31mNameError\u001b[0m: name 'test_ds_bert' is not defined"
          ]
        }
      ]
    },
    {
      "cell_type": "code",
      "source": [
        "data_test_data = np.concatenate(np.array(data_test_bert)[:, 0])\n",
        "data_test_label = np.concatenate(np.array(data_test_bert)[:, 1])"
      ],
      "metadata": {
        "id": "h2AY6qnqCNa1"
      },
      "execution_count": null,
      "outputs": []
    },
    {
      "cell_type": "code",
      "source": [
        "~pos_data_test = []\n",
        "neg_data_test = []\n",
        "for data, label in zip(data_test_data, data_test_label):\n",
        "  if label==0:\n",
        "    pos_data_test.append(data)\n",
        "  else:\n",
        "    neg_data_test.append(data)"
      ],
      "metadata": {
        "id": "5w38nimf_GGU"
      },
      "execution_count": null,
      "outputs": []
    },
    {
      "cell_type": "code",
      "source": [
        "export_NNBest = tf.keras.Sequential([\n",
        "  vectorize_layer,\n",
        "  NNBest,\n",
        "  layers.Activation('sigmoid')\n",
        "])\n",
        "\n",
        "export_NNBest.compile(\n",
        "    loss=losses.BinaryCrossentropy(from_logits=False), optimizer=\"adam\", metrics=['accuracy']\n",
        ")"
      ],
      "metadata": {
        "id": "twwdI6KcEtAT"
      },
      "execution_count": null,
      "outputs": []
    },
    {
      "cell_type": "code",
      "source": [
        "y_probas = np.stack([export_NNBest.predict(pos_data_test[:5], verbose=0) for sample in range(10)])\n",
        "y_proba_pos_NNBestDrop = y_probas.mean(axis=0)\n",
        "\n",
        "y_probas = np.stack([export_NNBest.predict(neg_data_test[:5], verbose=0) for sample in range(10)])\n",
        "y_proba_neg_NNBestDrop = y_probas.mean(axis=0)"
      ],
      "metadata": {
        "id": "VJdQudZx6zEU"
      },
      "execution_count": null,
      "outputs": []
    },
    {
      "cell_type": "code",
      "source": [
        "y_probas_pos_NNBest = export_NNBest.predict(pos_data_test[:5], verbose=0)\n",
        "y_probas_neg_NNBest = export_NNBest.predict(neg_data_test[:5], verbose=0)"
      ],
      "metadata": {
        "id": "MzpXW8WItcGn"
      },
      "execution_count": null,
      "outputs": []
    },
    {
      "cell_type": "markdown",
      "source": [
        "#### Comparison"
      ],
      "metadata": {
        "id": "zpEUWuYWFTIS"
      }
    },
    {
      "cell_type": "code",
      "source": [
        "y_probas_pos_NNBest"
      ],
      "metadata": {
        "colab": {
          "base_uri": "https://localhost:8080/"
        },
        "id": "ref83OtzTkcB",
        "outputId": "56aed492-1158-448f-fa9d-ebd36e2b1341"
      },
      "execution_count": null,
      "outputs": [
        {
          "output_type": "execute_result",
          "data": {
            "text/plain": [
              "array([[0.2562559 ],\n",
              "       [0.05173336],\n",
              "       [0.35413727],\n",
              "       [0.00589286],\n",
              "       [0.02678989]], dtype=float32)"
            ]
          },
          "metadata": {},
          "execution_count": 138
        }
      ]
    },
    {
      "cell_type": "code",
      "source": [
        "y_proba_pos_NNBestDrop"
      ],
      "metadata": {
        "colab": {
          "base_uri": "https://localhost:8080/"
        },
        "id": "WZCCIcaxTkfb",
        "outputId": "d0b01de5-4a38-4278-ac65-1ce359fec0a8"
      },
      "execution_count": null,
      "outputs": [
        {
          "output_type": "execute_result",
          "data": {
            "text/plain": [
              "array([[0.2562559 ],\n",
              "       [0.05173337],\n",
              "       [0.35413724],\n",
              "       [0.00589286],\n",
              "       [0.02678989]], dtype=float32)"
            ]
          },
          "metadata": {},
          "execution_count": 135
        }
      ]
    },
    {
      "cell_type": "markdown",
      "source": [
        "*Don*'t have different between NNBestDrop and NNBest on positive prediction"
      ],
      "metadata": {
        "id": "dfbyXAp8olU5"
      }
    },
    {
      "cell_type": "code",
      "source": [
        "y_probas_neg_NNBest"
      ],
      "metadata": {
        "colab": {
          "base_uri": "https://localhost:8080/"
        },
        "id": "tNf9joXwFSyk",
        "outputId": "c64fa3f9-98a5-4730-8299-d5db1082dfd7"
      },
      "execution_count": null,
      "outputs": [
        {
          "output_type": "execute_result",
          "data": {
            "text/plain": [
              "array([[0.17842512],\n",
              "       [0.5899117 ],\n",
              "       [0.8549421 ],\n",
              "       [0.18661907],\n",
              "       [0.6854551 ]], dtype=float32)"
            ]
          },
          "metadata": {},
          "execution_count": 117
        }
      ]
    },
    {
      "cell_type": "code",
      "source": [
        "y_proba_neg_NNBestDrop"
      ],
      "metadata": {
        "colab": {
          "base_uri": "https://localhost:8080/"
        },
        "id": "LqCg70kpFYNh",
        "outputId": "b96d2a69-2491-4c42-f22f-978977486050"
      },
      "execution_count": null,
      "outputs": [
        {
          "output_type": "execute_result",
          "data": {
            "text/plain": [
              "array([[0.1784251 ],\n",
              "       [0.58991164],\n",
              "       [0.8549422 ],\n",
              "       [0.18661906],\n",
              "       [0.68545514]], dtype=float32)"
            ]
          },
          "metadata": {},
          "execution_count": 118
        }
      ]
    },
    {
      "cell_type": "markdown",
      "source": [
        "=> models predict wrong neg[0] ad neg[1]"
      ],
      "metadata": {
        "id": "TlpHMNaroxGt"
      }
    },
    {
      "cell_type": "code",
      "source": [
        "neg_data_test[0]"
      ],
      "metadata": {
        "colab": {
          "base_uri": "https://localhost:8080/"
        },
        "id": "PLMeBCAlVVGY",
        "outputId": "ab23b568-056a-454b-ef47-5bdce852c381"
      },
      "execution_count": null,
      "outputs": [
        {
          "output_type": "execute_result",
          "data": {
            "text/plain": [
              "b\"In defense of this movie I must repeat what I had stated previously. The movie is called Arachina, it has a no name cast and I do not mean no name as in actors who play in little seen art house films. I mean no name as in your local high school decided to make a film no name and it might have a 2 dollar budget. So what does one expect? Hitchcock?<br /><br />I felt the movie never took itself seriously which automatically takes it out of the worst movie list. That list is only for big budget all star cast movies that takes itself way too seriously. THe movie The Oscar comes to mind, most of Sylvester Stallone's movies. THe two leads were not Hepburn and Tracy but they did their jobs well enough for this movie. The woman kicked butt and the guy was not a blithering idiot. The actor who played the old man was actually very good. The man who played anal retentive professor was no Clifton Webb but he did a god job. And the Bimbo's for lack of a better were played by two competent actors. I laughed at the 50 cent special effects. But that was part of the charm of the movie. It played like a hybrid Tremors meets Night of the Living Dead. The premise of the movie is just like all Giant Bug movies of the 50's. A Meteor or radiation stir up the ecosystem and before you know it we have Giant Ants, Lobsters, rocks or Lizards terrorizing the locals. A meteor was the cause of the problems this time. I was was very entertained. I didn't expect much and I go a lot more then I bargained for.\""
            ]
          },
          "metadata": {},
          "execution_count": 140
        }
      ]
    },
    {
      "cell_type": "code",
      "source": [
        "neg_data_test[3]"
      ],
      "metadata": {
        "colab": {
          "base_uri": "https://localhost:8080/"
        },
        "id": "M86VTsHZVWfe",
        "outputId": "edcac858-9390-46b8-8ce8-39111587fcd9"
      },
      "execution_count": null,
      "outputs": [
        {
          "output_type": "execute_result",
          "data": {
            "text/plain": [
              "b\"The first thing you see in this film is a static angle(one which will be repeated later in the film), depicting the chaos going on(unseen to the audience) in a studio that airs news. Soon after, Fonda's character's typical story is shown, in that same angle. Don't let this mislead you; the film is not about a female reporter, a woman struggling to succeed in a male-dominated profession. That is merely a lead-in, a way of starting the film(though it's used later). The actual point to this production is revealed gradually, and the first we see of it is in a deliberately long scene early on. The entire film has that pace; not slow or drawn-out, but deliberate. It's never really fast, even in the few sequences that one would normally expect to be so. This pacing(especially because it seems to slow down further as the plot is revealed, as the disturbing, unsettling nature of the film is unraveled) is strong, almost painful to the viewer. It inspires you to, if it had been possible, jump into the screen, grab the people responsible by the collar and yell at them to *do* something about it, to remedy the situation. Never once did I feel like getting up or even taking my eyes off the screen for a moment. The subject is extremely important to be aware of, and it's handled perfectly here. No over-dramatization(well... very little, anyway), just an accurate presentation of the issue. The direction is astounding. The empathy felt for Lemmon's character is profound. The editing is masterful... one scene near the very end illustrates that perfectly. The editor, judging from his filmography, is vastly underrated. The writing was excellent. The acting was great, in particular by Lemmon, Fonda and Douglas(who also produced it). The lack of a score is perfect; no music is needed to enhance. The ending is sublime and effective. The movie does have a few negative points... among them, some of the dialog is obviously and undeniably mainly exposition, one particular part of the film, whilst dramatic, doesn't seem to mesh with something that follows it. Not everyone will watch the film because of two features of it which are commonly (and rightfully so) attributed to bad movies; the pacing(which can be mistaken as being slow) and the (lack of) score. One could argue that to be a negative thing, as everyone ought to consider the points it presents, but maybe it's better this way; handling the heavy subject with the intelligence and respect(for the topic as well as the viewer)... something like this, maybe it shouldn't be spoon-fed. I was mesmerized with the film, and left very taken aback. I recommend this to anyone who believe themselves strong enough to handle it. 9/10\""
            ]
          },
          "metadata": {},
          "execution_count": 141
        }
      ]
    },
    {
      "cell_type": "markdown",
      "source": [
        "# Task 7"
      ],
      "metadata": {
        "id": "z8isNpxB1s3b"
      }
    },
    {
      "cell_type": "code",
      "source": [
        "y_probas_pos_NNBest = export_NNBest.predict(pos_data_test, verbose=0)\n",
        "y_probas_neg_NNBest = export_NNBest.predict(neg_data_test, verbose=0)"
      ],
      "metadata": {
        "id": "NNOLjOCQ6zSs"
      },
      "execution_count": null,
      "outputs": []
    },
    {
      "cell_type": "code",
      "source": [
        "y_probas_pos_NNBest_correctly, most_pos_data_test_correctly = zip(*sorted(zip(y_probas_pos_NNBest, pos_data_test))[:20])\n",
        "y_probas_neg_NNBest_correctly, most_neg_data_test_correctly = zip(*sorted(zip(y_probas_neg_NNBest, neg_data_test), reverse=True)[:20])"
      ],
      "metadata": {
        "id": "X5BR2VEmFwfj"
      },
      "execution_count": null,
      "outputs": []
    },
    {
      "cell_type": "code",
      "source": [
        "y_probas = np.stack([export_NNBest.predict(most_pos_data_test_correctly, verbose=0) for sample in range(10)])\n",
        "y_proba_pos_NNBestDrop_correctly = y_probas.mean(axis=0)\n",
        "\n",
        "y_probas = np.stack([export_NNBest.predict(most_neg_data_test_correctly, verbose=0) for sample in range(10)])\n",
        "y_proba_neg_NNBestDrop_correctly = y_probas.mean(axis=0)"
      ],
      "metadata": {
        "id": "9XpoAyBhvF1K"
      },
      "execution_count": null,
      "outputs": []
    },
    {
      "cell_type": "code",
      "source": [
        "y_probas_pos_NNBest_correctly"
      ],
      "metadata": {
        "colab": {
          "base_uri": "https://localhost:8080/"
        },
        "id": "H7qWSQ_DTRbi",
        "outputId": "223378d9-874c-481a-f745-79bb25d4e774"
      },
      "execution_count": null,
      "outputs": [
        {
          "output_type": "execute_result",
          "data": {
            "text/plain": [
              "(array([2.7302275e-07], dtype=float32),\n",
              " array([3.080672e-07], dtype=float32),\n",
              " array([7.3397007e-07], dtype=float32),\n",
              " array([7.451666e-07], dtype=float32),\n",
              " array([1.0765368e-06], dtype=float32),\n",
              " array([1.9850931e-06], dtype=float32),\n",
              " array([1.989416e-06], dtype=float32),\n",
              " array([2.6292525e-06], dtype=float32),\n",
              " array([3.3440294e-06], dtype=float32),\n",
              " array([4.090032e-06], dtype=float32),\n",
              " array([4.2580605e-06], dtype=float32),\n",
              " array([4.377012e-06], dtype=float32),\n",
              " array([4.435678e-06], dtype=float32),\n",
              " array([4.435678e-06], dtype=float32),\n",
              " array([5.020089e-06], dtype=float32),\n",
              " array([5.297503e-06], dtype=float32),\n",
              " array([5.4641987e-06], dtype=float32),\n",
              " array([6.190604e-06], dtype=float32),\n",
              " array([6.3539483e-06], dtype=float32),\n",
              " array([6.656453e-06], dtype=float32))"
            ]
          },
          "metadata": {},
          "execution_count": 133
        }
      ]
    },
    {
      "cell_type": "markdown",
      "source": [
        "Don't have different between NNBestDrop and NNBest on top 20 most positive prediction"
      ],
      "metadata": {
        "id": "PVvRC1yApSsw"
      }
    },
    {
      "cell_type": "code",
      "source": [
        "y_proba_pos_NNBestDrop_correctly"
      ],
      "metadata": {
        "colab": {
          "base_uri": "https://localhost:8080/",
          "height": 172
        },
        "id": "1SrfOcWuTRih",
        "outputId": "42b30824-36b6-4b51-c972-2eb02b67afc4"
      },
      "execution_count": 2,
      "outputs": [
        {
          "output_type": "error",
          "ename": "NameError",
          "evalue": "ignored",
          "traceback": [
            "\u001b[0;31m---------------------------------------------------------------------------\u001b[0m",
            "\u001b[0;31mNameError\u001b[0m                                 Traceback (most recent call last)",
            "\u001b[0;32m<ipython-input-2-3d41eddecb8a>\u001b[0m in \u001b[0;36m<module>\u001b[0;34m\u001b[0m\n\u001b[0;32m----> 1\u001b[0;31m \u001b[0my_proba_pos_NNBestDrop_correctly\u001b[0m\u001b[0;34m\u001b[0m\u001b[0;34m\u001b[0m\u001b[0m\n\u001b[0m",
            "\u001b[0;31mNameError\u001b[0m: name 'y_proba_pos_NNBestDrop_correctly' is not defined"
          ]
        }
      ]
    },
    {
      "cell_type": "code",
      "source": [
        "y_proba_pos_NNBestDrop_correctly"
      ],
      "metadata": {
        "colab": {
          "base_uri": "https://localhost:8080/"
        },
        "id": "EwZfn5CITKpS",
        "outputId": "d7519d51-4776-4b8e-fb2a-dc00b71f3887"
      },
      "execution_count": null,
      "outputs": [
        {
          "output_type": "execute_result",
          "data": {
            "text/plain": [
              "array([[0.9997958 ],\n",
              "       [0.99912345],\n",
              "       [0.9989213 ],\n",
              "       [0.99865973],\n",
              "       [0.9983355 ],\n",
              "       [0.9977597 ],\n",
              "       [0.9976822 ],\n",
              "       [0.99719465],\n",
              "       [0.99697316],\n",
              "       [0.99653757],\n",
              "       [0.99630773],\n",
              "       [0.996276  ],\n",
              "       [0.99542344],\n",
              "       [0.9953597 ],\n",
              "       [0.9947589 ],\n",
              "       [0.99463624],\n",
              "       [0.9944171 ],\n",
              "       [0.9943546 ],\n",
              "       [0.9942821 ],\n",
              "       [0.99360526]], dtype=float32)"
            ]
          },
          "metadata": {},
          "execution_count": 126
        }
      ]
    },
    {
      "cell_type": "code",
      "source": [
        "y_proba_neg_NNBestDrop_correctly"
      ],
      "metadata": {
        "colab": {
          "base_uri": "https://localhost:8080/"
        },
        "id": "5CVQ_G3wTHjW",
        "outputId": "4150731c-0444-483b-fe91-1792d8bc8b0e"
      },
      "execution_count": null,
      "outputs": [
        {
          "output_type": "execute_result",
          "data": {
            "text/plain": [
              "array([[0.9999999 ],\n",
              "       [0.999998  ],\n",
              "       [0.9999975 ],\n",
              "       [0.9999896 ],\n",
              "       [0.9999887 ],\n",
              "       [0.99997747],\n",
              "       [0.99997556],\n",
              "       [0.99997294],\n",
              "       [0.9999696 ],\n",
              "       [0.9999598 ],\n",
              "       [0.99994576],\n",
              "       [0.9999403 ],\n",
              "       [0.9999355 ],\n",
              "       [0.99993527],\n",
              "       [0.99993503],\n",
              "       [0.99992573],\n",
              "       [0.99991715],\n",
              "       [0.99991596],\n",
              "       [0.999899  ],\n",
              "       [0.9998989 ]], dtype=float32)"
            ]
          },
          "metadata": {},
          "execution_count": 125
        }
      ]
    },
    {
      "cell_type": "markdown",
      "source": [
        "Model NNBestDrop accurate than NNBest"
      ],
      "metadata": {
        "id": "4a1VbJt5piXR"
      }
    },
    {
      "cell_type": "markdown",
      "source": [
        "#### Repeat the above, but for the 20 most positive and 20 most negative reviews under the best model NNBest that are incorrectly classified.\n"
      ],
      "metadata": {
        "id": "euaZAwOVHABI"
      }
    },
    {
      "cell_type": "code",
      "source": [
        "y_probas_pos_NNBest_incorrectly, most_pos_data_test_incorrectly = zip(*sorted(zip(y_probas_pos_NNBest, pos_data_test), reverse=True)[:20])\n",
        "y_probas_neg_NNBest_incorrectly, most_neg_data_test_incorrectly = zip(*sorted(zip(y_probas_neg_NNBest, neg_data_test))[:20])"
      ],
      "metadata": {
        "id": "hy-AsVpQHDkA"
      },
      "execution_count": null,
      "outputs": []
    },
    {
      "cell_type": "code",
      "source": [
        "y_probas = np.stack([export_NNBest.predict(most_pos_data_test_incorrectly, verbose=0) for sample in range(10)])\n",
        "y_proba_pos_NNBestDrop_incorrectly = y_probas.mean(axis=0)\n",
        "\n",
        "y_probas = np.stack([export_NNBest.predict(most_neg_data_test_incorrectly, verbose=0) for sample in range(10)])\n",
        "y_proba_neg_NNBestDrop_incorrectly = y_probas.mean(axis=0)"
      ],
      "metadata": {
        "id": "lgp-DCigHpYP"
      },
      "execution_count": null,
      "outputs": []
    },
    {
      "cell_type": "code",
      "source": [
        "most_pos_data_test_incorrectly[0]"
      ],
      "metadata": {
        "colab": {
          "base_uri": "https://localhost:8080/"
        },
        "id": "AiawHcQrVggg",
        "outputId": "d61b47d0-2c53-48eb-d003-fc52684f9acf"
      },
      "execution_count": null,
      "outputs": [
        {
          "output_type": "execute_result",
          "data": {
            "text/plain": [
              "b'Based on the comments made so far, everyone seems to either hate this movie or love it. I think it would be fair to point out that although this is not a GREAT movie, it has its interesting moments. For one thing, it was filmed on location in Colorado (was it Breckinridge or Telluride? I can\\'t remember, but it is in the credits). The location is absolutely stunning and spectacular. It\\'s beautiful, even to me who lived in Colorado for several years.<br /><br />Next, it has Disney\\'s penchant for wonderful character actors. Harry Morgan has never been in better form than when he plays in a Disney movie. He is literally hysterical. Also, remember the wonderful Mary Wickes? Although she has a \"bit part\" in this movie, she is great, as always. If you don\\'t know who she is, think of the animated Disney version of Hunchback from Notre Dame (she was one of the gargoyles), and she was also the most interesting nun in \"Sister Act\", as well as the best nun in \"The Trouble With Angels.\" She has always been a great character actress and most character actors never receive the recognition they deserve.<br /><br />In addition to character actors and all-star casts, in the 1960s-1970s Disney may have not had the \"greatest\" movies, but, if you really watch some of them from beginning to end, you will NOTICE that every movie has some really funny or hysterical moment in it. The entire movie may not be funny, but there is always a comic gem (at least 1 or 2) in every single \"live-action\" movie Disney ever made. Whether it\\'s Harry Morgan in one of his bellowing tones of voice, or Tim Conway floundering around, or Joe Flynn giving one of his priceless looks of horror, it is all good. The whole film may not be good, but there are ALWAYS hysterical moments in every Disney film from this period that I have ever seen. Disney in this time period always managed to make a person smile, despite the dumbness of the film.<br /><br />Bsed on these comments, I disagree with viewers who say every Disney movie in this time period is awful. That statement it not quite accurate. Rather, it is easier for me to give credit to the funny moments and overlook the weaknesses in the plots.<br /><br />Some live-action Disney movies are true classics (Old Yeller, Bedknobs and Broomsticks, Mary Poppins), but for those that aren\\'t, I am able to appreciate them for what they were -- good clean family fun in a time when movies had become vulgar, crude and offensive.'"
            ]
          },
          "metadata": {},
          "execution_count": 142
        }
      ]
    },
    {
      "cell_type": "code",
      "source": [
        "most_neg_data_test_incorrectly[0]"
      ],
      "metadata": {
        "colab": {
          "base_uri": "https://localhost:8080/"
        },
        "id": "Q_UBhW1MVhUR",
        "outputId": "405f2edc-12a7-4af6-d240-c821c516a1c4"
      },
      "execution_count": null,
      "outputs": [
        {
          "output_type": "execute_result",
          "data": {
            "text/plain": [
              "b\"This is one of Bruce's most underrated films in my opinion, its an awesome heartwarming film, with a neat story and an amazing performance from Bruce Willis!. All the characters are great, and I thought Willis and Spencer Breslin were just awesome together, plus Bruce Willis is simply amazing in this!. This is definitely one of Bruce's best comedic performances (The waaaaaaaaaamabulance thing was great) and I thought it was very well written and made as well, plus The finale is especially cool!. It's good natured and it was cool how you can see Russell's (Willis) character change throughout the film! plus the ending was pretty good. I think this should be higher then 6.0 and it's one of the best Disney films I have ever seen! plus it has many surprising moments throughout. All the characters are extremely likable, and it also has a cute love story angle too it as well, plus Bruce and Spencer Breslin both had some really funny lines (Holy Smokes!). This is one of Bruce's most underrated films in my opinion, its an awesome heartwarming film, with a neat story and an an amazing performance from Bruce Willis and I say its a must see!. The Direction is great!. Jon Turteltaub does a great job here with really good camera work, and just keeping the film at a very fast pace. The Acting is excellent!. Bruce Willis is amazing as always and is amazing here, he gives one of his best comedic performances, is hilarious had wonderful chemistry with both Spencer Breslin and Emily Mortimer, had some funny lines, and was dead on throughout the movie, he was one of the main reasons I liked this movie so much! (Willis Rules!!!!!!!). Spencer Breslin is fantastic as the younger version of Russell, he was very funny and didn't get on my nerves once, he is one of the better child actors out there!. Emily Mortimer is good as Amy and was really cute I liked her she had decent chemistry with Bruce too. Lily Tomlin is funny as Janet I liked her quite a bit. Jean Smart is good with what she had to do, which was not much. Rest of the cast do fine. Overall a must see!. **** out pf 5\""
            ]
          },
          "metadata": {},
          "execution_count": 144
        }
      ]
    },
    {
      "cell_type": "code",
      "source": [
        "y_probas_pos_NNBest_incorrectly"
      ],
      "metadata": {
        "colab": {
          "base_uri": "https://localhost:8080/"
        },
        "id": "Gm0wxsDJTMMX",
        "outputId": "fbfd874f-0ac1-4be3-a6ef-586dd5444fad"
      },
      "execution_count": null,
      "outputs": [
        {
          "output_type": "execute_result",
          "data": {
            "text/plain": [
              "(array([0.99979585], dtype=float32),\n",
              " array([0.9991235], dtype=float32),\n",
              " array([0.9989213], dtype=float32),\n",
              " array([0.99865973], dtype=float32),\n",
              " array([0.9983354], dtype=float32),\n",
              " array([0.9977596], dtype=float32),\n",
              " array([0.9976821], dtype=float32),\n",
              " array([0.99719465], dtype=float32),\n",
              " array([0.99697316], dtype=float32),\n",
              " array([0.99653757], dtype=float32),\n",
              " array([0.99630785], dtype=float32),\n",
              " array([0.996276], dtype=float32),\n",
              " array([0.9954235], dtype=float32),\n",
              " array([0.9953597], dtype=float32),\n",
              " array([0.9947589], dtype=float32),\n",
              " array([0.99463624], dtype=float32),\n",
              " array([0.99441695], dtype=float32),\n",
              " array([0.9943547], dtype=float32),\n",
              " array([0.99428225], dtype=float32),\n",
              " array([0.9936052], dtype=float32))"
            ]
          },
          "metadata": {},
          "execution_count": 127
        }
      ]
    },
    {
      "cell_type": "code",
      "source": [
        "y_probas_neg_NNBest_incorrectly"
      ],
      "metadata": {
        "colab": {
          "base_uri": "https://localhost:8080/"
        },
        "id": "jmtk9AXxTMPv",
        "outputId": "33f11895-15f2-4f97-b49b-702a140dd48e"
      },
      "execution_count": null,
      "outputs": [
        {
          "output_type": "execute_result",
          "data": {
            "text/plain": [
              "(array([0.99999976], dtype=float32),\n",
              " array([0.999998], dtype=float32),\n",
              " array([0.9999975], dtype=float32),\n",
              " array([0.9999896], dtype=float32),\n",
              " array([0.9999888], dtype=float32),\n",
              " array([0.9999776], dtype=float32),\n",
              " array([0.9999757], dtype=float32),\n",
              " array([0.99997294], dtype=float32),\n",
              " array([0.9999697], dtype=float32),\n",
              " array([0.9999598], dtype=float32),\n",
              " array([0.9999459], dtype=float32),\n",
              " array([0.9999403], dtype=float32),\n",
              " array([0.9999355], dtype=float32),\n",
              " array([0.9999354], dtype=float32),\n",
              " array([0.9999349], dtype=float32),\n",
              " array([0.99992573], dtype=float32),\n",
              " array([0.99991715], dtype=float32),\n",
              " array([0.99991596], dtype=float32),\n",
              " array([0.99989915], dtype=float32),\n",
              " array([0.9998989], dtype=float32))"
            ]
          },
          "metadata": {},
          "execution_count": 128
        }
      ]
    },
    {
      "cell_type": "code",
      "source": [
        "y_probas_neg_NNBest_incorrectly"
      ],
      "metadata": {
        "colab": {
          "base_uri": "https://localhost:8080/"
        },
        "id": "mLs_yQMjTRfB",
        "outputId": "8d9f8546-bf0a-475e-b767-5ef06b5068f7"
      },
      "execution_count": null,
      "outputs": [
        {
          "output_type": "execute_result",
          "data": {
            "text/plain": [
              "(array([0.00021638], dtype=float32),\n",
              " array([0.0003066], dtype=float32),\n",
              " array([0.0003066], dtype=float32),\n",
              " array([0.00068529], dtype=float32),\n",
              " array([0.000728], dtype=float32),\n",
              " array([0.00079302], dtype=float32),\n",
              " array([0.00191887], dtype=float32),\n",
              " array([0.00223991], dtype=float32),\n",
              " array([0.00236068], dtype=float32),\n",
              " array([0.00255201], dtype=float32),\n",
              " array([0.00263213], dtype=float32),\n",
              " array([0.00286532], dtype=float32),\n",
              " array([0.00291019], dtype=float32),\n",
              " array([0.00303425], dtype=float32),\n",
              " array([0.00361979], dtype=float32),\n",
              " array([0.0040234], dtype=float32),\n",
              " array([0.00422195], dtype=float32),\n",
              " array([0.00432992], dtype=float32),\n",
              " array([0.00432992], dtype=float32),\n",
              " array([0.00447718], dtype=float32))"
            ]
          },
          "metadata": {},
          "execution_count": 134
        }
      ]
    },
    {
      "cell_type": "code",
      "source": [
        "y_proba_neg_NNBestDrop_incorrectly"
      ],
      "metadata": {
        "colab": {
          "base_uri": "https://localhost:8080/"
        },
        "id": "_ODKgfpoTRyM",
        "outputId": "519719fc-d8c8-47c9-8211-fac7f1bbeb85"
      },
      "execution_count": null,
      "outputs": [
        {
          "output_type": "execute_result",
          "data": {
            "text/plain": [
              "array([[0.00021638],\n",
              "       [0.0003066 ],\n",
              "       [0.0003066 ],\n",
              "       [0.00068529],\n",
              "       [0.000728  ],\n",
              "       [0.00079302],\n",
              "       [0.00191887],\n",
              "       [0.00223991],\n",
              "       [0.00236068],\n",
              "       [0.00255201],\n",
              "       [0.00263213],\n",
              "       [0.00286532],\n",
              "       [0.00291019],\n",
              "       [0.00303425],\n",
              "       [0.00361979],\n",
              "       [0.0040234 ],\n",
              "       [0.00422195],\n",
              "       [0.00432992],\n",
              "       [0.00432992],\n",
              "       [0.00447718]], dtype=float32)"
            ]
          },
          "metadata": {},
          "execution_count": 132
        }
      ]
    },
    {
      "cell_type": "markdown",
      "source": [
        "Both models don't have much different between wrong prediction on positive and negative"
      ],
      "metadata": {
        "id": "24T336qwpoG3"
      }
    }
  ],
  "metadata": {
    "colab": {
      "collapsed_sections": [],
      "provenance": [],
      "include_colab_link": true
    },
    "kernelspec": {
      "display_name": "Python 3",
      "language": "python",
      "name": "python3"
    },
    "language_info": {
      "codemirror_mode": {
        "name": "ipython",
        "version": 3
      },
      "file_extension": ".py",
      "mimetype": "text/x-python",
      "name": "python",
      "nbconvert_exporter": "python",
      "pygments_lexer": "ipython3",
      "version": "3.6.5"
    },
    "accelerator": "GPU"
  },
  "nbformat": 4,
  "nbformat_minor": 0
}